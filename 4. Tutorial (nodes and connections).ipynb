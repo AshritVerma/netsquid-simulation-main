{
 "cells": [
  {
   "cell_type": "markdown",
   "id": "7b1c5e9c",
   "metadata": {},
   "source": [
    "## Nodes"
   ]
  },
  {
   "cell_type": "markdown",
   "id": "ef8c74c0",
   "metadata": {},
   "source": [
    "changing Alice and Bob from generic simulation entities to Node components (describe i nterms of their network hardware)"
   ]
  },
  {
   "cell_type": "code",
   "execution_count": 4,
   "id": "f8cb4371",
   "metadata": {},
   "outputs": [],
   "source": [
    "import netsquid as ns\n",
    "from netsquid.nodes import Node\n",
    "alice = Node(\"Alice\")"
   ]
  },
  {
   "cell_type": "code",
   "execution_count": 6,
   "id": "1b979390",
   "metadata": {},
   "outputs": [
    {
     "data": {
      "text/plain": [
       "QuantumMemory(name='AliceMemory')"
      ]
     },
     "execution_count": 6,
     "metadata": {},
     "output_type": "execute_result"
    }
   ],
   "source": [
    "# if want to give Alice quantum memory\n",
    "from netsquid.components import QuantumMemory\n",
    "qmemory =  QuantumMemory(\"AliceMemory\", num_positions=2)\n",
    "alice.add_subcomponent(qmemory, name=\"memory1\")\n",
    "alice.subcomponents[\"memory1\"]"
   ]
  },
  {
   "cell_type": "code",
   "execution_count": 11,
   "id": "231f2563",
   "metadata": {},
   "outputs": [
    {
     "name": "stdout",
     "output_type": "stream",
     "text": [
      "ConstrainedMap({'memory1': QuantumMemory(name='AliceMemory')})\n",
      "Node(name='Alice')\n",
      "True\n"
     ]
    }
   ],
   "source": [
    "# in general, any component can be added as a sub component of anotehr component \n",
    "# sub components and super component of a compnent can be queried as follows:\n",
    "print(alice.subcomponents)\n",
    "print(qmemory.supercomponent)\n",
    "print(alice.supercomponent is None)"
   ]
  },
  {
   "cell_type": "markdown",
   "id": "09d023d5",
   "metadata": {},
   "source": [
    "For nodes there is a special treatment for the primary quantum memory (or quantum processor): it can be specified on initialization, and it can be accessed using the qmemory attribute. For instance:"
   ]
  },
  {
   "cell_type": "code",
   "execution_count": 12,
   "id": "c1973c33",
   "metadata": {},
   "outputs": [
    {
     "data": {
      "text/plain": [
       "QuantumMemory(name='BobMemory')"
      ]
     },
     "execution_count": 12,
     "metadata": {},
     "output_type": "execute_result"
    }
   ],
   "source": [
    "qmemory = QuantumMemory(\"BobMemory\", num_positions=2)\n",
    "bob = Node(\"Bob\", qmemory=qmemory)\n",
    "bob.qmemory"
   ]
  },
  {
   "cell_type": "code",
   "execution_count": 13,
   "id": "b0e4bd0c",
   "metadata": {},
   "outputs": [
    {
     "data": {
      "text/plain": [
       "ConstrainedMap({'BobMemory': QuantumMemory(name='BobMemory')})"
      ]
     },
     "execution_count": 13,
     "metadata": {},
     "output_type": "execute_result"
    }
   ],
   "source": [
    "bob.subcomponents"
   ]
  },
  {
   "cell_type": "markdown",
   "id": "f9bb938e",
   "metadata": {},
   "source": [
    "Nodes, like any component, can have ports (Port). Because it is not possible to connect ports between components with different supercomponents (parents), a node’s ports serve as the external interface for all their sub-components. A node’s sub-component can communicate via a node’s ports via forwarding i.e. it can forward it’s output or receive forwarded input."
   ]
  },
  {
   "cell_type": "code",
   "execution_count": 16,
   "id": "e4dbbc44",
   "metadata": {},
   "outputs": [],
   "source": [
    "#any input to Alice's qin_charlie port will be forwarded asinput to her memoyr's qin port\n",
    "# port forwarding is only setup in the setup diretion, unlike port connections\n",
    "alice.add_ports(['qin_charlie'])\n",
    "alice.ports['qin_charlie'].forward_input(alice.qmemory.ports['qin'])"
   ]
  },
  {
   "cell_type": "code",
   "execution_count": null,
   "id": "94346cf4",
   "metadata": {},
   "outputs": [],
   "source": []
  },
  {
   "cell_type": "markdown",
   "id": "a0468e64",
   "metadata": {},
   "source": [
    "## Connections"
   ]
  },
  {
   "cell_type": "code",
   "execution_count": 18,
   "id": "3de40ebd",
   "metadata": {},
   "outputs": [],
   "source": [
    "# define construction by subclassing from Connection base calss\n",
    "# implementing message behavior for A and B ports\n",
    "# A Channel has default ports send adn recv\n",
    "# when message is put on input of connection (@ port A), it is fowarded to send port of Channel\n",
    "# similar^ for output of the recv port is forwarded to port B\n",
    "from netsquid.nodes.connections import Connection\n",
    "from netsquid.components import ClassicalChannel\n",
    "from netsquid.components.models import FibreDelayModel\n",
    "\n",
    "class ClassicalConnection(Connection):\n",
    "    def __init__(self, length):\n",
    "        super().__init__(name=\"ClassicalConnection\")\n",
    "        self.add_subcomponent(ClassicalChannel(\"Channel_A2B\", length = length, models = {\"delay_model\": FibreDelayModel()}))\n",
    "        self.ports['A'].forward_input(\n",
    "            self.subcomponents[\"Channel_A2B\"].ports['send'])\n",
    "        self.subcomponents[\"Channel_A2B\"].ports['recv'].forward_output(self.ports['B'])"
   ]
  },
  {
   "cell_type": "code",
   "execution_count": 19,
   "id": "d3803b82",
   "metadata": {},
   "outputs": [],
   "source": [
    "# alternative to subclassing is first instantiate Connection and then add and link teh channel subcomponent\n",
    "# equal to above:"
   ]
  },
  {
   "cell_type": "code",
   "execution_count": 23,
   "id": "dbc11fbd",
   "metadata": {},
   "outputs": [],
   "source": [
    "cconnection = Connection(\"ClassicalConnection\")\n",
    "cchannel = ClassicalChannel(\"Channel_A2B\")\n",
    "cconnection.add_subcomponent(cchannel, forward_input=[(\"A\", \"send\")], forward_output=[(\"B\", \"recv\")])\n",
    "# could also add channel in opposite direction to make connection bi-direction\n",
    "# to make connection bi-directional visit DirectConnection\n",
    "# "
   ]
  },
  {
   "cell_type": "code",
   "execution_count": null,
   "id": "b4620cd6",
   "metadata": {},
   "outputs": [],
   "source": []
  },
  {
   "cell_type": "markdown",
   "id": "9ecb9ea5",
   "metadata": {},
   "source": [
    "## Entangling connection for teleportation"
   ]
  },
  {
   "attachments": {
    "image.png": {
     "image/png": "[encoded data removed]"
    }
   },
   "cell_type": "markdown",
   "id": "b04996dd",
   "metadata": {},
   "source": [
    "![image.png](attachment:image.png)"
   ]
  },
  {
   "cell_type": "markdown",
   "id": "24723ac2",
   "metadata": {},
   "source": [
    "can represent Charlie form previous example as EntanglingConnection, that will contian the quantum source + Alice and Bob's quantum channels\n",
    "<br>\n",
    "s.t. internal clock in teh quantum source will auatomatically trigger this connection to generate entangled qubits and send them as output to its remote ports A and B via quantum channels"
   ]
  },
  {
   "cell_type": "code",
   "execution_count": 35,
   "id": "4a7f8df7",
   "metadata": {},
   "outputs": [],
   "source": [
    "from netsquid.components.qchannel import QuantumChannel\n",
    "from netsquid.qubits import StateSampler\n",
    "from netsquid.components.qsource import QSource, SourceStatus\n",
    "from netsquid.components.models import FixedDelayModel, DepolarNoiseModel\n",
    "import netsquid.qubits.ketstates as ks\n",
    "\n",
    "class EntanglingConnection(Connection):\n",
    "    \n",
    "    def __init__(self, length, source_frequency):\n",
    "        super().__init__(name=\"EntanglingConnection\")\n",
    "        timing_model = FixedDelayModel(delay=(1e9/source_frequency))\n",
    "        qsource = QSource(\"qsource\", StateSampler([ks.b00],[1.0]), num_ports=2, timing_model=timing_model, status=SourceStatus.INTERNAL)\n",
    "        self.add_subcomponent(qsource)\n",
    "        qchannel_c2a = QuantumChannel(\"qchannel_C2A\", length=length/2, models={\"delay_model\": FibreDelayModel()})\n",
    "        qchannel_c2b = QuantumChannel(\"qchannel_C2B\", length=length/2, models={\"delay_model\": FibreDelayModel()})\n",
    "        # adding channels and fowrading quantum channel output to export port output:\n",
    "        self.add_subcomponent(qchannel_c2a, forward_output=[(\"A\", \"recv\")])\n",
    "        self.add_subcomponent(qchannel_c2b, forward_output=[(\"B\", \"recv\")])\n",
    "        # connecting qsource output to quantum channel input:\n",
    "        qsource.ports[\"qout0\"].connect(qchannel_c2a.ports[\"send\"])\n",
    "        qsource.ports[\"qout1\"].connect(qchannel_c2b.ports[\"send\"])"
   ]
  },
  {
   "cell_type": "markdown",
   "id": "0513ddf0",
   "metadata": {},
   "source": [
    "adding protoocl to this v useful bc simplifies complicated control-flows\n",
    "<br> how to setup a network for teleportation compatible w using Protocols?\n",
    "<br> end goal = adjusting this^ to create and return a 'Network\" insetead of individual components"
   ]
  },
  {
   "cell_type": "code",
   "execution_count": 44,
   "id": "e1ed35a8",
   "metadata": {},
   "outputs": [],
   "source": [
    "def example_network_setup(node_distance=4e3, depolar_rate=1e7):\n",
    "    # setup nodes Alice and Bob with their respective quantum memories\n",
    "    noise_model = DepolarNoiseModel(depolar_rate=depolar_rate)\n",
    "    \n",
    "    alice = Node(\n",
    "        \"Alice\", \n",
    "        port_names = ['qin_charlie', 'cout_bob'],\n",
    "        qmemory = QuantumMemory(\"AliceMemory\",\n",
    "                                num_positions = 2,\n",
    "                                memory_noise_models = [noise_model]*2))\n",
    "    bob = Node(\n",
    "        \"Bob\",\n",
    "        port_names = ['qin_charlie', 'cin_alice'],\n",
    "        qmemory = QuantumMemory(\"BobMemory\",\n",
    "                                num_positions=2,\n",
    "                               memory_noise_models = [noise_model]*2))\n",
    "    \n",
    "    bob.ports['qin_charlie'].forward_input(bob.qmemory.ports['qin0'])\n",
    "    \n",
    "    #setup classical connection bw nodes:\n",
    "    c_conn = ClassicalConnection(length=node_distance)\n",
    "    alice.ports['cout_bob'].connect(c_conn.ports['A'])\n",
    "    bob.ports['cin_alice'].connect(c_conn.ports['B'])\n",
    "    \n",
    "    #setup entanglging connection bw nodes:\n",
    "    q_conn = EntanglingConnection(length=node_distance,source_frequency=2e7)\n",
    "    alice.ports['qin_charlie'].connect(q_conn.ports['A'])\n",
    "    bob.ports['qin_charlie'].connect(q_conn.ports['B'])\n",
    "    return alice, bob, q_conn, c_conn"
   ]
  },
  {
   "cell_type": "code",
   "execution_count": 45,
   "id": "ad9f167c",
   "metadata": {},
   "outputs": [
    {
     "data": {
      "text/plain": [
       "(None, None)"
      ]
     },
     "execution_count": 45,
     "metadata": {},
     "output_type": "execute_result"
    }
   ],
   "source": [
    "# test part of our entwork by checkign after one cycle if entangled qubits have arrived on both quantum emories\n",
    "ns.set_qstate_formalism(ns.QFormalism.DM)\n",
    "alice, bob, *_ = example_network_setup()\n",
    "stats = ns.sim_run(15)\n",
    "qA, = alice.qmemory.peek(positions=[1])\n",
    "qB, = bob.qmemory.peek(positions=[0])\n",
    "qA, qB"
   ]
  },
  {
   "cell_type": "code",
   "execution_count": 46,
   "id": "fe1d8907",
   "metadata": {},
   "outputs": [
    {
     "ename": "ValueError",
     "evalue": "[None, None] is not a valid list of qubit(s)",
     "output_type": "error",
     "traceback": [
      "\u001b[0;31m---------------------------------------------------------------------------\u001b[0m",
      "\u001b[0;31mValueError\u001b[0m                                Traceback (most recent call last)",
      "\u001b[0;32m<ipython-input-46-72b16fedc3e5>\u001b[0m in \u001b[0;36m<module>\u001b[0;34m\u001b[0m\n\u001b[0;32m----> 1\u001b[0;31m \u001b[0mfidelity\u001b[0m \u001b[0;34m=\u001b[0m \u001b[0mns\u001b[0m\u001b[0;34m.\u001b[0m\u001b[0mqubits\u001b[0m\u001b[0;34m.\u001b[0m\u001b[0mfidelity\u001b[0m\u001b[0;34m(\u001b[0m\u001b[0;34m[\u001b[0m\u001b[0mqA\u001b[0m\u001b[0;34m,\u001b[0m \u001b[0mqB\u001b[0m\u001b[0;34m]\u001b[0m\u001b[0;34m,\u001b[0m \u001b[0mns\u001b[0m\u001b[0;34m.\u001b[0m\u001b[0mb00\u001b[0m\u001b[0;34m)\u001b[0m\u001b[0;34m\u001b[0m\u001b[0;34m\u001b[0m\u001b[0m\n\u001b[0m\u001b[1;32m      2\u001b[0m \u001b[0mpritn\u001b[0m\u001b[0;34m(\u001b[0m\u001b[0;34mf\"Entangled fidelity (after 5 ns wait) = {fidelity:.3f}\"\u001b[0m\u001b[0;34m)\u001b[0m\u001b[0;34m\u001b[0m\u001b[0;34m\u001b[0m\u001b[0m\n",
      "\u001b[0;32m~/.local/lib/python3.6/site-packages/netsquid/qubits/qubitapi.py\u001b[0m in \u001b[0;36mfidelity\u001b[0;34m(qubits, reference_state, squared)\u001b[0m\n\u001b[1;32m    898\u001b[0m         \u001b[0;32melse\u001b[0m\u001b[0;34m:\u001b[0m\u001b[0;34m\u001b[0m\u001b[0;34m\u001b[0m\u001b[0m\n\u001b[1;32m    899\u001b[0m             \u001b[0mreference_state\u001b[0m \u001b[0;34m=\u001b[0m \u001b[0mKetRepr\u001b[0m\u001b[0;34m(\u001b[0m\u001b[0mreference_state\u001b[0m\u001b[0;34m)\u001b[0m\u001b[0;34m\u001b[0m\u001b[0;34m\u001b[0m\u001b[0m\n\u001b[0;32m--> 900\u001b[0;31m     \u001b[0mqubits\u001b[0m \u001b[0;34m=\u001b[0m \u001b[0m_to_qubits_list\u001b[0m\u001b[0;34m(\u001b[0m\u001b[0mqubits\u001b[0m\u001b[0;34m,\u001b[0m \u001b[0mcombine\u001b[0m\u001b[0;34m=\u001b[0m\u001b[0;32mTrue\u001b[0m\u001b[0;34m)\u001b[0m\u001b[0;34m\u001b[0m\u001b[0;34m\u001b[0m\u001b[0m\n\u001b[0m\u001b[1;32m    901\u001b[0m     \u001b[0;32mreturn\u001b[0m \u001b[0m_qrepr\u001b[0m\u001b[0;34m(\u001b[0m\u001b[0mqubits\u001b[0m\u001b[0;34m)\u001b[0m\u001b[0;34m.\u001b[0m\u001b[0mfidelity\u001b[0m\u001b[0;34m(\u001b[0m\u001b[0mreference_state\u001b[0m\u001b[0;34m,\u001b[0m \u001b[0m_idx\u001b[0m\u001b[0;34m(\u001b[0m\u001b[0mqubits\u001b[0m\u001b[0;34m)\u001b[0m\u001b[0;34m,\u001b[0m \u001b[0msquared\u001b[0m\u001b[0;34m=\u001b[0m\u001b[0msquared\u001b[0m\u001b[0;34m)\u001b[0m\u001b[0;34m\u001b[0m\u001b[0;34m\u001b[0m\u001b[0m\n\u001b[1;32m    902\u001b[0m \u001b[0;34m\u001b[0m\u001b[0m\n",
      "\u001b[0;32m~/.local/lib/python3.6/site-packages/netsquid/qubits/qubitapi.py\u001b[0m in \u001b[0;36m_to_qubits_list\u001b[0;34m(qubits, combine)\u001b[0m\n\u001b[1;32m    115\u001b[0m         \u001b[0;32mraise\u001b[0m \u001b[0mTypeError\u001b[0m\u001b[0;34m\u001b[0m\u001b[0;34m\u001b[0m\u001b[0m\n\u001b[1;32m    116\u001b[0m     \u001b[0;32mif\u001b[0m \u001b[0mcombine\u001b[0m \u001b[0;32mand\u001b[0m \u001b[0mlen\u001b[0m\u001b[0;34m(\u001b[0m\u001b[0mqubits\u001b[0m\u001b[0;34m)\u001b[0m \u001b[0;34m>\u001b[0m \u001b[0;36m1\u001b[0m\u001b[0;34m:\u001b[0m\u001b[0;34m\u001b[0m\u001b[0;34m\u001b[0m\u001b[0m\n\u001b[0;32m--> 117\u001b[0;31m         \u001b[0mcombine_qubits\u001b[0m\u001b[0;34m(\u001b[0m\u001b[0mqubits\u001b[0m\u001b[0;34m)\u001b[0m\u001b[0;34m\u001b[0m\u001b[0;34m\u001b[0m\u001b[0m\n\u001b[0m\u001b[1;32m    118\u001b[0m     \u001b[0;32mreturn\u001b[0m \u001b[0mqubits\u001b[0m\u001b[0;34m\u001b[0m\u001b[0;34m\u001b[0m\u001b[0m\n\u001b[1;32m    119\u001b[0m \u001b[0;34m\u001b[0m\u001b[0m\n",
      "\u001b[0;32m~/.local/lib/python3.6/site-packages/netsquid/qubits/qubitapi.py\u001b[0m in \u001b[0;36mcombine_qubits\u001b[0;34m(qubits)\u001b[0m\n\u001b[1;32m    374\u001b[0m     \"\"\"\n\u001b[1;32m    375\u001b[0m     \u001b[0;32mif\u001b[0m \u001b[0;32mNone\u001b[0m \u001b[0;32min\u001b[0m \u001b[0mqubits\u001b[0m\u001b[0;34m:\u001b[0m\u001b[0;34m\u001b[0m\u001b[0;34m\u001b[0m\u001b[0m\n\u001b[0;32m--> 376\u001b[0;31m         \u001b[0;32mraise\u001b[0m \u001b[0mValueError\u001b[0m\u001b[0;34m(\u001b[0m\u001b[0;34mf\"{qubits} is not a valid list of qubit(s)\"\u001b[0m\u001b[0;34m)\u001b[0m\u001b[0;34m\u001b[0m\u001b[0;34m\u001b[0m\u001b[0m\n\u001b[0m\u001b[1;32m    377\u001b[0m     \u001b[0;32mif\u001b[0m \u001b[0mlen\u001b[0m\u001b[0;34m(\u001b[0m\u001b[0mqubits\u001b[0m\u001b[0;34m)\u001b[0m \u001b[0;34m<\u001b[0m \u001b[0;36m2\u001b[0m\u001b[0;34m:\u001b[0m\u001b[0;34m\u001b[0m\u001b[0;34m\u001b[0m\u001b[0m\n\u001b[1;32m    378\u001b[0m         \u001b[0;32mreturn\u001b[0m \u001b[0mqubits\u001b[0m\u001b[0;34m\u001b[0m\u001b[0;34m\u001b[0m\u001b[0m\n",
      "\u001b[0;31mValueError\u001b[0m: [None, None] is not a valid list of qubit(s)"
     ]
    }
   ],
   "source": [
    "fidelity = ns.qubits.fidelity([qA, qB], ns.b00)\n",
    "pritn(f\"Entangled fidelity (after 5 ns wait) = {fidelity:.3f}\")"
   ]
  },
  {
   "cell_type": "code",
   "execution_count": null,
   "id": "18a3ef60",
   "metadata": {},
   "outputs": [],
   "source": []
  }
 ],
 "metadata": {
  "kernelspec": {
   "display_name": "Python 3",
   "language": "python",
   "name": "python3"
  },
  "language_info": {
   "codemirror_mode": {
    "name": "ipython",
    "version": 3
   },
   "file_extension": ".py",
   "mimetype": "text/x-python",
   "name": "python",
   "nbconvert_exporter": "python",
   "pygments_lexer": "ipython3",
   "version": "3.6.9"
  }
 },
 "nbformat": 4,
 "nbformat_minor": 5
}
