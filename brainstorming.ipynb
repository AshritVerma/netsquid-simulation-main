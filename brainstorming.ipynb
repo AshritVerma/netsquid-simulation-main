{
 "cells": [
  {
   "cell_type": "code",
   "execution_count": 1,
   "id": "229790e2",
   "metadata": {},
   "outputs": [],
   "source": [
    "import numpy as np\n",
    "import math"
   ]
  },
  {
   "cell_type": "code",
   "execution_count": null,
   "id": "7c3bf066",
   "metadata": {},
   "outputs": [],
   "source": []
  },
  {
   "cell_type": "code",
   "execution_count": 2,
   "id": "6684dbbb",
   "metadata": {},
   "outputs": [
    {
     "data": {
      "text/plain": [
       "array([[1., 1., 1., 1.],\n",
       "       [1., 1., 1., 1.],\n",
       "       [1., 1., 1., 1.],\n",
       "       [1., 1., 1., 1.]])"
      ]
     },
     "execution_count": 2,
     "metadata": {},
     "output_type": "execute_result"
    }
   ],
   "source": [
    "np.ones([4,4])"
   ]
  },
  {
   "cell_type": "code",
   "execution_count": 3,
   "id": "df68a2da",
   "metadata": {},
   "outputs": [],
   "source": [
    "delta_time1 = 100e-9\n",
    "delta_time2 = 30e-6\n",
    "coherence_time = 300e-6"
   ]
  },
  {
   "cell_type": "code",
   "execution_count": 4,
   "id": "5e214e93",
   "metadata": {},
   "outputs": [],
   "source": [
    "#t = delta_time1\n",
    "#tau = coherence_time\n",
    "#np.exp(-t/tau)"
   ]
  },
  {
   "cell_type": "code",
   "execution_count": 5,
   "id": "8aef049a",
   "metadata": {},
   "outputs": [
    {
     "data": {
      "text/plain": [
       "\"\\ndef IonPhotonDephaseNoiseModel(delta_time, coherence_time):\\n    temp = np.exp(-delta_time/coherence_time)\\n    \\n    if coherence_time != 0:\\n        rotation_matrix = \\n    else:\\n        rotation_matrix = I\\n        rotation_operator = Operator(name='rotation_oeprator', matrix=rotation_matrix, \\n                                     description='collective dpehasing operator, rotation rate has been sampled')\\n\""
      ]
     },
     "execution_count": 5,
     "metadata": {},
     "output_type": "execute_result"
    }
   ],
   "source": [
    "\"\"\"\n",
    "def IonPhotonDephaseNoiseModel(delta_time, coherence_time):\n",
    "    temp = np.exp(-delta_time/coherence_time)\n",
    "    \n",
    "    if coherence_time != 0:\n",
    "        rotation_matrix = \n",
    "    else:\n",
    "        rotation_matrix = I\n",
    "        rotation_operator = Operator(name='rotation_oeprator', matrix=rotation_matrix, \n",
    "                                     description='collective dpehasing operator, rotation rate has been sampled')\n",
    "\"\"\"\n"
   ]
  },
  {
   "cell_type": "code",
   "execution_count": null,
   "id": "be57ac67",
   "metadata": {},
   "outputs": [],
   "source": []
  },
  {
   "cell_type": "code",
   "execution_count": null,
   "id": "f03e2466",
   "metadata": {},
   "outputs": [],
   "source": []
  },
  {
   "cell_type": "code",
   "execution_count": null,
   "id": "8ea3950d",
   "metadata": {},
   "outputs": [],
   "source": []
  },
  {
   "cell_type": "code",
   "execution_count": null,
   "id": "35317ce6",
   "metadata": {},
   "outputs": [],
   "source": []
  },
  {
   "cell_type": "code",
   "execution_count": null,
   "id": "5e8117b0",
   "metadata": {},
   "outputs": [],
   "source": []
  },
  {
   "cell_type": "code",
   "execution_count": 6,
   "id": "2d60b1d5",
   "metadata": {},
   "outputs": [],
   "source": [
    "A = np.matrix([[0, 1], [1, 0]])"
   ]
  },
  {
   "cell_type": "code",
   "execution_count": 7,
   "id": "782e56b1",
   "metadata": {},
   "outputs": [],
   "source": [
    "B = np.matrix([[2, 3], [4, 5]])"
   ]
  },
  {
   "cell_type": "code",
   "execution_count": 8,
   "id": "f54f58f2",
   "metadata": {},
   "outputs": [
    {
     "name": "stdout",
     "output_type": "stream",
     "text": [
      "[[[[0 0]\n",
      "   [0 0]]\n",
      "\n",
      "  [[2 3]\n",
      "   [4 5]]]\n",
      "\n",
      "\n",
      " [[[2 3]\n",
      "   [4 5]]\n",
      "\n",
      "  [[0 0]\n",
      "   [0 0]]]]\n"
     ]
    }
   ],
   "source": [
    "C = np.tensordot(A, B, axes=0)\n",
    "print(C)"
   ]
  },
  {
   "cell_type": "code",
   "execution_count": 9,
   "id": "ea2ecc3c",
   "metadata": {},
   "outputs": [
    {
     "data": {
      "text/plain": [
       "array([0, 0, 0, 0, 2, 3, 4, 5, 2, 3, 4, 5, 0, 0, 0, 0])"
      ]
     },
     "execution_count": 9,
     "metadata": {},
     "output_type": "execute_result"
    }
   ],
   "source": [
    "D = C.flatten()\n",
    "D"
   ]
  },
  {
   "cell_type": "code",
   "execution_count": 10,
   "id": "dd285831",
   "metadata": {},
   "outputs": [],
   "source": [
    "E = np.array([])"
   ]
  },
  {
   "cell_type": "code",
   "execution_count": 11,
   "id": "11e19a33",
   "metadata": {},
   "outputs": [],
   "source": [
    "for i in D:\n",
    "    if i > 0:\n",
    "        E = np.append(E, i)"
   ]
  },
  {
   "cell_type": "code",
   "execution_count": 12,
   "id": "cb2b0d0d",
   "metadata": {},
   "outputs": [
    {
     "name": "stdout",
     "output_type": "stream",
     "text": [
      "[2. 3. 4. 5. 2. 3. 4. 5.]\n"
     ]
    }
   ],
   "source": [
    "print(E)"
   ]
  },
  {
   "cell_type": "code",
   "execution_count": null,
   "id": "e7e4164a",
   "metadata": {},
   "outputs": [],
   "source": []
  },
  {
   "cell_type": "code",
   "execution_count": 13,
   "id": "813c4dff",
   "metadata": {},
   "outputs": [],
   "source": [
    "input_density_matrix = np.matrix([[0, 1], [1, 0]])\n",
    "rotation_matrix = input_density_matrix.copy()\n",
    "delta_time = 60e-6\n",
    "coherence_time = 300e-6\n",
    "intm = np.exp(-delta_time / coherence_time)"
   ]
  },
  {
   "cell_type": "code",
   "execution_count": 20,
   "id": "31b7d3c2",
   "metadata": {},
   "outputs": [
    {
     "name": "stdout",
     "output_type": "stream",
     "text": [
      "[[[0 0]\n",
      "  [0 0]]\n",
      "\n",
      " [[2 3]\n",
      "  [4 5]]]\n",
      "[[0 0]\n",
      " [0 0]]\n",
      "[[2 3]\n",
      " [4 5]]\n",
      "[[[2 3]\n",
      "  [4 5]]\n",
      "\n",
      " [[0 0]\n",
      "  [0 0]]]\n",
      "[[2 3]\n",
      " [4 5]]\n",
      "[[0 0]\n",
      " [0 0]]\n"
     ]
    }
   ],
   "source": []
  },
  {
   "cell_type": "code",
   "execution_count": null,
   "id": "52ac375f",
   "metadata": {},
   "outputs": [],
   "source": []
  },
  {
   "cell_type": "code",
   "execution_count": null,
   "id": "fb6d31e9",
   "metadata": {},
   "outputs": [],
   "source": [
    "aa"
   ]
  },
  {
   "cell_type": "code",
   "execution_count": null,
   "id": "862fc4e6",
   "metadata": {},
   "outputs": [],
   "source": []
  },
  {
   "cell_type": "code",
   "execution_count": null,
   "id": "c8228d74",
   "metadata": {
    "scrolled": false
   },
   "outputs": [],
   "source": [
    "for x in C:\n",
    "    for y in x:\n",
    "        for i in y:\n",
    "            E = np.append(i)\n",
    "            "
   ]
  },
  {
   "cell_type": "code",
   "execution_count": null,
   "id": "682f9640",
   "metadata": {},
   "outputs": [],
   "source": []
  }
 ],
 "metadata": {
  "kernelspec": {
   "display_name": "Python 3 (ipykernel)",
   "language": "python",
   "name": "python3"
  },
  "language_info": {
   "codemirror_mode": {
    "name": "ipython",
    "version": 3
   },
   "file_extension": ".py",
   "mimetype": "text/x-python",
   "name": "python",
   "nbconvert_exporter": "python",
   "pygments_lexer": "ipython3",
   "version": "3.8.13"
  }
 },
 "nbformat": 4,
 "nbformat_minor": 5
}
