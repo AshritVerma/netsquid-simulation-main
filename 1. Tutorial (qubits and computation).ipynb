{
 "cells": [
  {
   "cell_type": "code",
   "execution_count": 1,
   "id": "d925466d",
   "metadata": {},
   "outputs": [],
   "source": [
    "import netsquid as ns\n",
    "q1, q2 = ns.qubits.create_qubits(2)"
   ]
  },
  {
   "cell_type": "markdown",
   "id": "897befb6",
   "metadata": {},
   "source": [
    "## Computation and Mesurement"
   ]
  },
  {
   "cell_type": "code",
   "execution_count": 2,
   "id": "46caa692",
   "metadata": {},
   "outputs": [
    {
     "data": {
      "text/plain": [
       "1"
      ]
     },
     "execution_count": 2,
     "metadata": {},
     "output_type": "execute_result"
    }
   ],
   "source": [
    "# default created in 0 state. what's the sate?\n",
    "q1.qstate.num_qubits"
   ]
  },
  {
   "cell_type": "code",
   "execution_count": 3,
   "id": "be9b7199",
   "metadata": {},
   "outputs": [
    {
     "name": "stdout",
     "output_type": "stream",
     "text": [
      "KetRepr(num_qubits=1,\n",
      "ket=\n",
      "[[1.+0.j]\n",
      " [0.+0.j]])\n"
     ]
    }
   ],
   "source": [
    "print(q1.qstate.qrepr)"
   ]
  },
  {
   "cell_type": "code",
   "execution_count": 4,
   "id": "6536b372",
   "metadata": {},
   "outputs": [
    {
     "name": "stdout",
     "output_type": "stream",
     "text": [
      "KetRepr(num_qubits=1,\n",
      "ket=\n",
      "[[1.+0.j]\n",
      " [0.+0.j]])\n"
     ]
    }
   ],
   "source": [
    "print(q2.qstate.qrepr)"
   ]
  },
  {
   "cell_type": "code",
   "execution_count": 5,
   "id": "ce8d7da0",
   "metadata": {},
   "outputs": [
    {
     "data": {
      "text/plain": [
       "False"
      ]
     },
     "execution_count": 5,
     "metadata": {},
     "output_type": "execute_result"
    }
   ],
   "source": [
    "q1.qstate == q2.qstate"
   ]
  },
  {
   "cell_type": "code",
   "execution_count": 6,
   "id": "379ceaf0",
   "metadata": {},
   "outputs": [
    {
     "data": {
      "text/plain": [
       "True"
      ]
     },
     "execution_count": 6,
     "metadata": {},
     "output_type": "execute_result"
    }
   ],
   "source": [
    "ns.qubits.combine_qubits([q1,q2])\n",
    "q1.qstate == q2.qstate"
   ]
  },
  {
   "cell_type": "code",
   "execution_count": 7,
   "id": "6ab13d4f",
   "metadata": {},
   "outputs": [
    {
     "data": {
      "text/plain": [
       "2"
      ]
     },
     "execution_count": 7,
     "metadata": {},
     "output_type": "execute_result"
    }
   ],
   "source": [
    "q1.qstate.num_qubits"
   ]
  },
  {
   "cell_type": "code",
   "execution_count": 8,
   "id": "1fbc309d",
   "metadata": {},
   "outputs": [
    {
     "name": "stdout",
     "output_type": "stream",
     "text": [
      "KetRepr(num_qubits=2,\n",
      "ket=\n",
      "[[1.+0.j]\n",
      " [0.+0.j]\n",
      " [0.+0.j]\n",
      " [0.+0.j]])\n"
     ]
    }
   ],
   "source": [
    "print(q1.qstate.qrepr)"
   ]
  },
  {
   "cell_type": "markdown",
   "id": "9f4f7b06",
   "metadata": {},
   "source": [
    "reduced_dm() function gives reduced density matrix (recommended way to inspect quantum state of one or more qubits)"
   ]
  },
  {
   "cell_type": "code",
   "execution_count": 9,
   "id": "b2b3a79e",
   "metadata": {},
   "outputs": [
    {
     "data": {
      "text/plain": [
       "array([[1.+0.j, 0.+0.j, 0.+0.j, 0.+0.j],\n",
       "       [0.+0.j, 0.+0.j, 0.+0.j, 0.+0.j],\n",
       "       [0.+0.j, 0.+0.j, 0.+0.j, 0.+0.j],\n",
       "       [0.+0.j, 0.+0.j, 0.+0.j, 0.+0.j]])"
      ]
     },
     "execution_count": 9,
     "metadata": {},
     "output_type": "execute_result"
    }
   ],
   "source": [
    "ns.qubits.reduced_dm([q1,q2])"
   ]
  },
  {
   "cell_type": "code",
   "execution_count": 10,
   "id": "0284668d",
   "metadata": {},
   "outputs": [
    {
     "data": {
      "text/plain": [
       "array([[1.+0.j, 0.+0.j],\n",
       "       [0.+0.j, 0.+0.j]])"
      ]
     },
     "execution_count": 10,
     "metadata": {},
     "output_type": "execute_result"
    }
   ],
   "source": [
    "ns.qubits.reduced_dm(q2)"
   ]
  },
  {
   "cell_type": "markdown",
   "id": "68f891fb",
   "metadata": {},
   "source": [
    "mesauring qubit will by default split form its shared quantum state"
   ]
  },
  {
   "cell_type": "code",
   "execution_count": 11,
   "id": "db35169d",
   "metadata": {},
   "outputs": [
    {
     "data": {
      "text/plain": [
       "True"
      ]
     },
     "execution_count": 11,
     "metadata": {},
     "output_type": "execute_result"
    }
   ],
   "source": [
    "q1.qstate.num_qubits == q2.qstate.num_qubits"
   ]
  },
  {
   "cell_type": "code",
   "execution_count": 12,
   "id": "62219fc5",
   "metadata": {},
   "outputs": [
    {
     "data": {
      "text/plain": [
       "2"
      ]
     },
     "execution_count": 12,
     "metadata": {},
     "output_type": "execute_result"
    }
   ],
   "source": [
    "q1.qstate.num_qubits"
   ]
  },
  {
   "cell_type": "code",
   "execution_count": 13,
   "id": "35e0d074",
   "metadata": {},
   "outputs": [
    {
     "data": {
      "text/plain": [
       "(0, 1.0)"
      ]
     },
     "execution_count": 13,
     "metadata": {},
     "output_type": "execute_result"
    }
   ],
   "source": [
    "ns.qubits.measure(q1)"
   ]
  },
  {
   "cell_type": "code",
   "execution_count": 14,
   "id": "c8edea38",
   "metadata": {},
   "outputs": [
    {
     "data": {
      "text/plain": [
       "True"
      ]
     },
     "execution_count": 14,
     "metadata": {},
     "output_type": "execute_result"
    }
   ],
   "source": [
    "q1.qstate.num_qubits == q2.qstate.num_qubits"
   ]
  },
  {
   "cell_type": "code",
   "execution_count": 15,
   "id": "528c609e",
   "metadata": {},
   "outputs": [
    {
     "data": {
      "text/plain": [
       "1"
      ]
     },
     "execution_count": 15,
     "metadata": {},
     "output_type": "execute_result"
    }
   ],
   "source": [
    "q1.qstate.num_qubits"
   ]
  },
  {
   "cell_type": "code",
   "execution_count": 16,
   "id": "3da806b2",
   "metadata": {},
   "outputs": [
    {
     "data": {
      "text/plain": [
       "array([[1.+0.j, 0.+0.j],\n",
       "       [0.+0.j, 0.+0.j]])"
      ]
     },
     "execution_count": 16,
     "metadata": {},
     "output_type": "execute_result"
    }
   ],
   "source": [
    "ns.qubits.reduced_dm(q1)"
   ]
  },
  {
   "cell_type": "markdown",
   "id": "4f867240",
   "metadata": {},
   "source": [
    "measur eoperator returns measurement result and teh probability of that measurement. discarbing qubit iwll only remove it from its shared quatnum state but also leave it stateless"
   ]
  },
  {
   "cell_type": "code",
   "execution_count": 17,
   "id": "53288f42",
   "metadata": {},
   "outputs": [
    {
     "data": {
      "text/plain": [
       "[Qubit('QS#0-0'), Qubit('QS#0-1')]"
      ]
     },
     "execution_count": 17,
     "metadata": {},
     "output_type": "execute_result"
    }
   ],
   "source": [
    "ns.qubits.combine_qubits([q1,q2])"
   ]
  },
  {
   "cell_type": "code",
   "execution_count": 18,
   "id": "d716ff32",
   "metadata": {},
   "outputs": [
    {
     "data": {
      "text/plain": [
       "True"
      ]
     },
     "execution_count": 18,
     "metadata": {},
     "output_type": "execute_result"
    }
   ],
   "source": [
    "q1.qstate.num_qubits == q2.qstate.num_qubits"
   ]
  },
  {
   "cell_type": "code",
   "execution_count": 19,
   "id": "95610e8b",
   "metadata": {},
   "outputs": [
    {
     "data": {
      "text/plain": [
       "2"
      ]
     },
     "execution_count": 19,
     "metadata": {},
     "output_type": "execute_result"
    }
   ],
   "source": [
    "q1.qstate.num_qubits"
   ]
  },
  {
   "cell_type": "code",
   "execution_count": 20,
   "id": "54fdb46f",
   "metadata": {},
   "outputs": [
    {
     "data": {
      "text/plain": [
       "(0, 1.0)"
      ]
     },
     "execution_count": 20,
     "metadata": {},
     "output_type": "execute_result"
    }
   ],
   "source": [
    "ns.qubits.measure(q2,discard=True)"
   ]
  },
  {
   "cell_type": "code",
   "execution_count": 21,
   "id": "8834a344",
   "metadata": {},
   "outputs": [
    {
     "data": {
      "text/plain": [
       "True"
      ]
     },
     "execution_count": 21,
     "metadata": {},
     "output_type": "execute_result"
    }
   ],
   "source": [
    "q2.qstate is None"
   ]
  },
  {
   "cell_type": "code",
   "execution_count": 22,
   "id": "04f6df0f",
   "metadata": {},
   "outputs": [
    {
     "data": {
      "text/plain": [
       "1"
      ]
     },
     "execution_count": 22,
     "metadata": {},
     "output_type": "execute_result"
    }
   ],
   "source": [
    "q1.qstate.num_qubits"
   ]
  },
  {
   "cell_type": "markdown",
   "id": "47edf9bc",
   "metadata": {},
   "source": [
    "## Qstate formalism"
   ]
  },
  {
   "cell_type": "code",
   "execution_count": 23,
   "id": "aba7ee3e",
   "metadata": {},
   "outputs": [],
   "source": [
    "# measuring qubit automatically splits it from shared quantum state"
   ]
  },
  {
   "cell_type": "code",
   "execution_count": 24,
   "id": "b4fb0fbb",
   "metadata": {},
   "outputs": [],
   "source": [
    "from netsquid.qubits.qformalism import QFormalism"
   ]
  },
  {
   "cell_type": "code",
   "execution_count": 25,
   "id": "c1e82ffd",
   "metadata": {},
   "outputs": [
    {
     "data": {
      "text/plain": [
       "netsquid.qubits.kettools.KetRepr"
      ]
     },
     "execution_count": 25,
     "metadata": {},
     "output_type": "execute_result"
    }
   ],
   "source": [
    "ns.get_qstate_formalism()"
   ]
  },
  {
   "cell_type": "code",
   "execution_count": 26,
   "id": "8255fe1c",
   "metadata": {},
   "outputs": [
    {
     "data": {
      "text/plain": [
       "netsquid.qubits.stabtools.StabRepr"
      ]
     },
     "execution_count": 26,
     "metadata": {},
     "output_type": "execute_result"
    }
   ],
   "source": [
    "# Change to stabilizer formalism:\n",
    "ns.set_qstate_formalism(QFormalism.STAB)\n",
    "ns.get_qstate_formalism()"
   ]
  },
  {
   "cell_type": "markdown",
   "id": "afe9d1ff",
   "metadata": {},
   "source": [
    "even tho ns will attempt to convert shared quantum states when encounters incompatabile formalisms, good practice to create new qubits when chagne formalisms"
   ]
  },
  {
   "cell_type": "code",
   "execution_count": 27,
   "id": "f5e7260e",
   "metadata": {},
   "outputs": [
    {
     "name": "stdout",
     "output_type": "stream",
     "text": [
      "[[0.5+0.j 0.5+0.j]\n",
      " [0.5+0.j 0.5+0.j]]\n",
      "[[ 0.5+0.j -0.5+0.j]\n",
      " [-0.5+0.j  0.5+0.j]]\n"
     ]
    }
   ],
   "source": [
    "q1, q2 = ns.qubits.create_qubits(2, no_state=True)\n",
    "ns.qubits.assign_qstate([q1, q2], ns.h01)  # assign |+->\n",
    "print(ns.qubits.reduced_dm(q1))\n",
    "print(ns.qubits.reduced_dm(q2))"
   ]
  },
  {
   "cell_type": "code",
   "execution_count": 28,
   "id": "4dbe7fa6",
   "metadata": {},
   "outputs": [],
   "source": [
    "# let's check if underlying qtate now uses stabilizer fomralism:"
   ]
  },
  {
   "cell_type": "code",
   "execution_count": 29,
   "id": "2258bac8",
   "metadata": {},
   "outputs": [
    {
     "data": {
      "text/plain": [
       "netsquid.qubits.stabtools.StabRepr"
      ]
     },
     "execution_count": 29,
     "metadata": {},
     "output_type": "execute_result"
    }
   ],
   "source": [
    "type(q1.qstate.qrepr)"
   ]
  },
  {
   "cell_type": "code",
   "execution_count": 30,
   "id": "a90340a0",
   "metadata": {},
   "outputs": [
    {
     "data": {
      "text/plain": [
       "array([[1, 0, 0, 0],\n",
       "       [0, 1, 0, 0]], dtype=uint8)"
      ]
     },
     "execution_count": 30,
     "metadata": {},
     "output_type": "execute_result"
    }
   ],
   "source": [
    "q1.qstate.qrepr.check_matrix"
   ]
  },
  {
   "cell_type": "code",
   "execution_count": 31,
   "id": "c2d12a23",
   "metadata": {},
   "outputs": [
    {
     "data": {
      "text/plain": [
       "array([ 1, -1], dtype=int8)"
      ]
     },
     "execution_count": 31,
     "metadata": {},
     "output_type": "execute_result"
    }
   ],
   "source": [
    "q1.qstate.qrepr.phases"
   ]
  },
  {
   "cell_type": "markdown",
   "id": "dc181859",
   "metadata": {},
   "source": [
    "## Operations"
   ]
  },
  {
   "cell_type": "code",
   "execution_count": 32,
   "id": "94efc9e6",
   "metadata": {},
   "outputs": [],
   "source": [
    "# Change to density matrix formalism:\n",
    "ns.set_qstate_formalism(QFormalism.DM)\n",
    "a1, a2, b1 = ns.qubits.create_qubits(3)"
   ]
  },
  {
   "attachments": {
    "image.png": {
     "image/png": "[encoded data removed]"
    }
   },
   "cell_type": "markdown",
   "id": "f4893c24",
   "metadata": {},
   "source": [
    "![image.png](attachment:image.png)"
   ]
  },
  {
   "attachments": {
    "image.png": {
     "image/png": "[encoded data removed]"
    }
   },
   "cell_type": "markdown",
   "id": "33da574a",
   "metadata": {},
   "source": [
    "![image.png](attachment:image.png)"
   ]
  },
  {
   "cell_type": "code",
   "execution_count": 33,
   "id": "a6db1cd9",
   "metadata": {},
   "outputs": [
    {
     "name": "stdout",
     "output_type": "stream",
     "text": [
      "[[0.5+0.j  0. -0.5j]\n",
      " [0. +0.5j 0.5+0.j ]]\n",
      "[[0.5+0.j 0. +0.j 0. +0.j 0.5+0.j]\n",
      " [0. +0.j 0. +0.j 0. +0.j 0. +0.j]\n",
      " [0. +0.j 0. +0.j 0. +0.j 0. +0.j]\n",
      " [0.5+0.j 0. +0.j 0. +0.j 0.5+0.j]]\n"
     ]
    }
   ],
   "source": [
    "# put a1 into the chosen target state\n",
    "ns.qubits.operate(a1, ns.H) # apply Hadamard gate to a1: |0> -> |+>\n",
    "ns.qubits.operate(a1, ns.S) # apply S gate to a1: |+> -> |0_y>\n",
    "print(ns.qubits.reduced_dm([a1]))\n",
    "# transform a2 and b1 to the Bell state |b00> = (|00> + |11>)/sqrt(2)\n",
    "ns.qubits.operate(a2, ns.H)  # apply Hadamard gate to a2\n",
    "ns.qubits.operate([a2, b1], ns.CNOT)  # CNOT: a2 = control, b1 = target\n",
    "print(ns.qubits.reduced_dm([a2, b1]))"
   ]
  },
  {
   "cell_type": "markdown",
   "id": "04eafe77",
   "metadata": {},
   "source": [
    "create cusotm quantum oeprators:"
   ]
  },
  {
   "cell_type": "code",
   "execution_count": 34,
   "id": "dbc9a812",
   "metadata": {},
   "outputs": [
    {
     "name": "stdout",
     "output_type": "stream",
     "text": [
      "(CX*(((X+Z)/(1.41))^I))\n",
      "R_x[0.79]\n",
      "CR_x[0.79]\n"
     ]
    }
   ],
   "source": [
    "import numpy as np\n",
    "\n",
    "# Construct a new operator using existing operators:\n",
    "newOp = ns.CNOT * ((ns.X + ns.Z) / np.sqrt(2) ^ ns.I)\n",
    "print(newOp.name)  # Note: CNOT == CX\n",
    "\n",
    "# Construct a new operator using a matrix:\n",
    "newOp2 = ns.qubits.Operator(\"newOp2\", np.array([[1, 1j], [-1j, -1]])/np.sqrt(2))\n",
    "assert(newOp2.is_unitary == True)\n",
    "assert(newOp2.is_hermitian == True)\n",
    "\n",
    "# Construct new operators using helper functions:\n",
    "R = ns.create_rotation_op(angle=np.pi/4, rotation_axis=(1, 0, 0))\n",
    "print(R.name)\n",
    "\n",
    "# Construct a controlled operator:\n",
    "CR = R.ctrl\n",
    "print(CR.name)"
   ]
  },
  {
   "cell_type": "markdown",
   "id": "a5925db1",
   "metadata": {},
   "source": [
    "after initializing qubits, to teleport Alice proceeds by performing Bell state measurement on her two qubits. Then she sends the two calssical bits to Bob who performs a possible correction This represented by circuit:"
   ]
  },
  {
   "attachments": {
    "image.png": {
     "image/png": "[encoded data removed]"
    }
   },
   "cell_type": "markdown",
   "id": "7df73a0a",
   "metadata": {},
   "source": [
    "![image.png](attachment:image.png)"
   ]
  },
  {
   "cell_type": "markdown",
   "id": "390c6450",
   "metadata": {},
   "source": [
    " measure function perromsprojective measurement. if no observable specified, Z used by default"
   ]
  },
  {
   "cell_type": "code",
   "execution_count": 35,
   "id": "4be3988a",
   "metadata": {},
   "outputs": [
    {
     "name": "stdout",
     "output_type": "stream",
     "text": [
      "Measured |0> with prob 0.50\n",
      "Measured |1> with prob 0.50\n"
     ]
    }
   ],
   "source": [
    "ns.set_random_state(seed=42)  # (Ensures fixed random outcomes for our doctests)\n",
    "ns.qubits.operate([a1, a2], ns.CNOT)  # CNOT: a1 = control, a2 = target\n",
    "ns.qubits.operate(a1, ns.H)\n",
    "# Measure a1 in the standard basis:\n",
    "m1, prob = ns.qubits.measure(a1)\n",
    "labels_z = (\"|0>\", \"|1>\")\n",
    "print(f\"Measured {labels_z[m1]} with prob {prob:.2f}\")\n",
    "# Measure a2 in standard basis:\n",
    "m2, prob = ns.qubits.measure(a2)\n",
    "print(f\"Measured {labels_z[m2]} with prob {prob:.2f}\")"
   ]
  },
  {
   "cell_type": "code",
   "execution_count": 36,
   "id": "3fe18ca7",
   "metadata": {},
   "outputs": [
    {
     "name": "stdout",
     "output_type": "stream",
     "text": [
      "Measured |-> with prob 0.50\n"
     ]
    }
   ],
   "source": [
    "# measure in Hadamrd (x)\n",
    "q1, = ns.qubits.create_qubits(1)\n",
    "m3, prob = ns.qubits.measure(q1, observable=ns.X, discard=True)\n",
    "labels_x = (\"+\", \"-\")\n",
    "print(f\"Measured |{labels_x[m3]}> with prob {prob:.2f}\")"
   ]
  },
  {
   "cell_type": "code",
   "execution_count": 37,
   "id": "231e62ed",
   "metadata": {},
   "outputs": [
    {
     "name": "stdout",
     "output_type": "stream",
     "text": [
      "Measured |-> with prob 0.50\n",
      "Measured |0> with prob 0.50\n",
      "Measured |+> with prob 0.50\n",
      "Measured |0> with prob 0.50\n",
      "Measured |-> with prob 0.50\n",
      "Measured |1> with prob 0.50\n"
     ]
    }
   ],
   "source": [
    "# ping pong in for loop\n",
    "q1, = ns.qubits.create_qubits(1)\n",
    "for i in range(6):\n",
    "    observable, labels = (ns.Z, (\"0\", \"1\")) if i % 2 else (ns.X, (\"+\", \"-\"))\n",
    "    m, prob = ns.qubits.measure(q1, observable=observable)\n",
    "    print(f\"Measured |{labels[m]}> with prob {prob:.2f}\")"
   ]
  },
  {
   "cell_type": "markdown",
   "id": "a1b4b0f3",
   "metadata": {},
   "source": [
    "## General measurements"
   ]
  },
  {
   "cell_type": "code",
   "execution_count": 38,
   "id": "896d3721",
   "metadata": {},
   "outputs": [
    {
     "name": "stdout",
     "output_type": "stream",
     "text": [
      "Measured |10> with prob 0.25\n",
      "2\n"
     ]
    }
   ],
   "source": [
    "bell_operators = []\n",
    "p0, p1 = ns.Z.projectors\n",
    "bell_operators.append(ns.CNOT * (ns.H ^ ns.I) * (p0 ^ p0) * (ns.H ^ ns.I) * ns.CNOT)\n",
    "bell_operators.append(ns.CNOT * (ns.H ^ ns.I) * (p0 ^ p1) * (ns.H ^ ns.I) * ns.CNOT)\n",
    "bell_operators.append(ns.CNOT * (ns.H ^ ns.I) * (p1 ^ p0) * (ns.H ^ ns.I) * ns.CNOT)\n",
    "bell_operators.append(ns.CNOT * (ns.H ^ ns.I) * (p1 ^ p1) * (ns.H ^ ns.I) * ns.CNOT)\n",
    "q1, q2 = ns.qubits.create_qubits(2)\n",
    "ns.qubits.operate(q1, ns.H)\n",
    "meas, prob = ns.qubits.gmeasure([q1, q2], meas_operators=bell_operators)\n",
    "labels_bell = (\"|00>\", \"|01>\", \"|10>\", \"|11>\")\n",
    "print(f\"Measured {labels_bell[meas]} with prob {prob:.2f}\")\n",
    "print(q1.qstate.num_qubits)"
   ]
  },
  {
   "cell_type": "markdown",
   "id": "dd544cc5",
   "metadata": {},
   "source": [
    "Bob may need to apply corrections to his qubit to recover the telperted quantum state\n"
   ]
  },
  {
   "cell_type": "code",
   "execution_count": 39,
   "id": "94223603",
   "metadata": {},
   "outputs": [
    {
     "name": "stdout",
     "output_type": "stream",
     "text": [
      "[[0.5+0.j  0. -0.5j]\n",
      " [0. +0.5j 0.5+0.j ]]\n"
     ]
    }
   ],
   "source": [
    "if m2 == 1:\n",
    "    ns.qubits.operate(b1,ns.X)\n",
    "if m1 == 1:\n",
    "    ns.qubits.operate(b1,ns.Z)\n",
    "print(ns.qubits.reduced_dm([b1]))"
   ]
  },
  {
   "cell_type": "code",
   "execution_count": 40,
   "id": "f63c66c9",
   "metadata": {},
   "outputs": [
    {
     "name": "stdout",
     "output_type": "stream",
     "text": [
      "Fidelity is 1.000\n"
     ]
    }
   ],
   "source": [
    "# hwo close qubit is to desired state by measuring fidelity\n",
    "fidelity = ns.qubits.fidelity(b1, ns.y0, squared=True)\n",
    "print(f\"Fidelity is {fidelity:.3f}\")"
   ]
  },
  {
   "cell_type": "markdown",
   "id": "1cf7afda",
   "metadata": {},
   "source": [
    "## Applying Noise"
   ]
  },
  {
   "cell_type": "markdown",
   "id": "9dbfe358",
   "metadata": {},
   "source": [
    "case that b1 depolarized during the Bell measurement of a1 and a2, which would cause the fidelity of the teleported state to drop"
   ]
  },
  {
   "cell_type": "code",
   "execution_count": 41,
   "id": "c47ada0e",
   "metadata": {},
   "outputs": [
    {
     "name": "stdout",
     "output_type": "stream",
     "text": [
      "Fidelity is 0.909\n"
     ]
    }
   ],
   "source": [
    "ns.qubits.delay_depolarize(b1, depolar_rate=1e7, delay=20)\n",
    "fidelity = ns.qubits.fidelity([b1], reference_state=ns.y0, squared=True)\n",
    "print(f\"Fidelity is {fidelity:.3f}\")"
   ]
  },
  {
   "cell_type": "code",
   "execution_count": 42,
   "id": "1a5e4933",
   "metadata": {},
   "outputs": [
    {
     "name": "stdout",
     "output_type": "stream",
     "text": [
      "[[0.25+0.j 0.  +0.j]\n",
      " [0.  +0.j 0.75+0.j]]\n",
      "[[0.5+0.j 0. +0.j]\n",
      " [0. +0.j 0.5+0.j]]\n",
      "[[0.6+0.j 0. +0.j]\n",
      " [0. +0.j 0.4+0.j]]\n",
      "[[0.1+0.j 0. +0.j]\n",
      " [0. +0.j 0.9+0.j]]\n"
     ]
    }
   ],
   "source": [
    "q1, q2, q3, q4 = ns.qubits.create_qubits(4)\n",
    "\n",
    "ns.qubits.stochastic_operate(q1,[ns.X,ns.Y,ns.Z],p_weights=(.5,.25,.25))\n",
    "print(ns.qubits.reduced_dm([q1]))\n",
    "\n",
    "ns.qubits.apply_pauli_noise(q2,p_weights=(.25,.25,.25,.25))\n",
    "print(ns.qubits.reduced_dm([q2]))\n",
    "\n",
    "ns.qubits.depolarize(q3,prob=0.8)\n",
    "print(ns.qubits.reduced_dm(q3))\n",
    "\n",
    "ns.qubits.operate(q4,ns.X)# -> |1>\n",
    "ns.qubits.amplitude_dampen(q4, gamma=0.1, prob=1)\n",
    "print(ns.qubits.reduced_dm([q4]))"
   ]
  },
  {
   "cell_type": "code",
   "execution_count": null,
   "id": "fd0ab97a",
   "metadata": {},
   "outputs": [],
   "source": []
  }
 ],
 "metadata": {
  "kernelspec": {
   "display_name": "Python 3 (ipykernel)",
   "language": "python",
   "name": "python3"
  },
  "language_info": {
   "codemirror_mode": {
    "name": "ipython",
    "version": 3
   },
   "file_extension": ".py",
   "mimetype": "text/x-python",
   "name": "python",
   "nbconvert_exporter": "python",
   "pygments_lexer": "ipython3",
   "version": "3.8.13"
  }
 },
 "nbformat": 4,
 "nbformat_minor": 5
}
