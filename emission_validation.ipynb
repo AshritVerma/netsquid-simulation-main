{
 "cells": [
  {
   "cell_type": "code",
   "execution_count": 5,
   "metadata": {},
   "outputs": [],
   "source": [
    "import sys\n",
    "import os\n",
    "import netsquid as ns\n",
    "import pydynaa\n",
    "import pandas\n",
    "import numpy as np\n",
    "import math\n",
    "import matplotlib.pyplot as plt\n",
    "\n",
    "from numpy import random\n",
    "from itertools import combinations\n",
    "\n",
    "from netsquid.nodes import Node, Connection, Network\n",
    "\n",
    "from netsquid.protocols import Protocol, NodeProtocol, Signals\n",
    "\n",
    "from netsquid.util.datacollector import DataCollector\n",
    "\n",
    "import netsquid.qubits.ketstates as ks\n",
    "\n",
    "from netsquid.examples.teleportation import example_network_setup\n",
    "from netsquid.qubits import qubitapi as qapi\n",
    "from netsquid.qubits.qubitapi import ops\n",
    "from netsquid.qubits import StateSampler\n",
    "\n",
    "from netsquid.components import ClassicalChannel, QuantumChannel, QuantumProgram, QuantumProcessor, INSTR_MEASURE\n",
    "from netsquid.components.qsource import QSource, SourceStatus\n",
    "from netsquid.components.models import DelayModel, FixedDelayModel, FibreDelayModel, FibreLossModel, DephaseNoiseModel, DepolarNoiseModel\n",
    "from netsquid.components.qprocessor import QuantumProcessor, PhysicalInstruction\n",
    "from netsquid.components.instructions import INSTR_ROT_Z, INSTR_INIT, INSTR_EMIT, IMeasureFaulty\n",
    "\n",
    "import netsquid.components.instructions as instr\n",
    "\n",
    "import import_ipynb\n",
    "from NoiseModels import EmissionNoiseModel, CollectiveDephasingNoiseModel\n",
    "from Instructions import IonTrapMultiQubitRotation, IonTrapMSGate, INSTR_INIT_BELL\n",
    "from nstrappedions.InitPhoton import SendPhoton\n",
    "from programs import emit_prog"
   ]
  },
  {
   "cell_type": "code",
   "execution_count": 6,
   "metadata": {},
   "outputs": [],
   "source": [
    "\"\"\"Validate that emission success probability from an ion trap is as expected.\"\"\"\n",
    "\n",
    "\n",
    "def setup(collection_efficiency, fiber_length, attenuation):\n",
    "\n",
    "    ion_trap = SendPhoton(num_positions=1, collection_efficiency=collection_efficiency)\n",
    "    #ion_trap = SendPhoton(num_positions=2)\n",
    "    \n",
    "    ion_trap.add_instruction(instruction=INSTR_INIT_BELL, duration=0)\n",
    "    q1, q2 = qapi.create_qubits(2)\n",
    "    ns.qubits.operate(q1, ops.H)\n",
    "    ns.qubits.operate([q1, q2], ops.CNOT)\n",
    "    \n",
    "    \n",
    "    loss_model = FibreLossModel(p_loss_length=attenuation, p_loss_init=0)\n",
    "    fiber = QuantumChannel(name=\"fiber\", length=fiber_length,\n",
    "                           models={\"quantum_loss_model\": loss_model},\n",
    "                           transmit_empty_items=True)\n",
    "    fiber.ports[\"send\"].connect(ion_trap.ports[\"qout\"])\n",
    "    collection_port = fiber.ports[\"recv\"]\n",
    "\n",
    "    # collection_port = ion_trap.ports[\"qout\"]\n",
    "\n",
    "    return ion_trap, collection_port"
   ]
  },
  {
   "cell_type": "code",
   "execution_count": 7,
   "metadata": {},
   "outputs": [],
   "source": [
    "\n",
    "# ns.logger.setLevel(logging.DEBUG)\n",
    "\n",
    "# x = np.arange(0.1, 1, 0.1)\n",
    "# xstring = \"collection efficiency\"\n",
    "\n",
    "x = range(1, 10)\n",
    "xstring = \"fiber length\"\n",
    "\n",
    "collection_efficiency = 1\n",
    "fiber_length = 1\n",
    "attenuation = 0.25\n",
    "\n",
    "success_probs = []\n",
    "success_prob_errors = []\n",
    "expected_success_probs = []\n",
    "\n",
    "for fiber_length in x:\n",
    "\n",
    "    ion_trap, collection_port = setup(collection_efficiency=collection_efficiency,\n",
    "                                      fiber_length=fiber_length,\n",
    "                                      attenuation=attenuation)\n",
    "    #fail_count = 0\n",
    "    num_tries = 500\n",
    "    outcomes = []\n",
    "    for _ in range(num_tries):\n",
    "        ion_trap.execute_program(emit_prog)\n",
    "        ns.sim_run()\n",
    "        emitted_message = collection_port.rx_output()\n",
    "        emitted_qubit = emitted_message.items[0]\n",
    "        if emitted_qubit is None:\n",
    "            outcomes.append(0)\n",
    "        else:\n",
    "            if emitted_qubit.qstate is None:\n",
    "                outcomes.append(0)\n",
    "            else:\n",
    "                outcomes.append(1)\n",
    "\n",
    "    success_prob = np.mean(outcomes)\n",
    "    success_probs.append(success_prob)\n",
    "    success_prob_error = np.std(outcomes) / math.sqrt(len(outcomes))\n",
    "    success_prob_errors.append(success_prob_error)\n",
    "    expected_success_prob = collection_efficiency * np.power(10, - attenuation * fiber_length / 10)\n",
    "    expected_success_probs.append(expected_success_prob)"
   ]
  },
  {
   "cell_type": "code",
   "execution_count": 8,
   "metadata": {},
   "outputs": [
    {
     "data": {
      "image/png": "[encoded data removed]",
      "text/plain": [
       "<Figure size 432x288 with 1 Axes>"
      ]
     },
     "metadata": {
      "needs_background": "light"
     },
     "output_type": "display_data"
    }
   ],
   "source": [
    "plt.figure()\n",
    "plt.errorbar(x, y=success_probs, yerr=success_prob_errors, label=\"measured\")\n",
    "plt.plot(x, expected_success_probs, label=\"expected\")\n",
    "plt.xlabel(xstring)\n",
    "plt.ylabel(\"success probability)\")\n",
    "plt.legend()\n",
    "plt.show()"
   ]
  },
  {
   "cell_type": "code",
   "execution_count": null,
   "metadata": {},
   "outputs": [],
   "source": []
  }
 ],
 "metadata": {
  "kernelspec": {
   "display_name": "Python 3",
   "language": "python",
   "name": "python3"
  },
  "language_info": {
   "codemirror_mode": {
    "name": "ipython",
    "version": 3
   },
   "file_extension": ".py",
   "mimetype": "text/x-python",
   "name": "python",
   "nbconvert_exporter": "python",
   "pygments_lexer": "ipython3",
   "version": "3.6.9"
  }
 },
 "nbformat": 4,
 "nbformat_minor": 2
}
