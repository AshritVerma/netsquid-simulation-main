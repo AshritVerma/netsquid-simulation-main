{
 "cells": [
  {
   "cell_type": "markdown",
   "id": "b095a229",
   "metadata": {},
   "source": [
    "# One Node Simulation"
   ]
  },
  {
   "cell_type": "markdown",
   "id": "a2476be5",
   "metadata": {},
   "source": [
    "## Importing packages:"
   ]
  },
  {
   "cell_type": "code",
   "execution_count": 20,
   "id": "be44fb74",
   "metadata": {},
   "outputs": [
    {
     "name": "stdout",
     "output_type": "stream",
     "text": [
      "importing Jupyter notebook from programs.ipynb\n",
      "<netsquid.components.qprogram.QuantumProgram object at 0x7f8315bc9518>\n",
      "<netsquid.components.qprogram.QuantumProgram object at 0x7f8315bc9588>\n",
      "<programs.EmitProg object at 0x7f8315bfe198>\n",
      "<programs.IonTrapOneQubitHadamard object at 0x7f8315c1a320>\n",
      "<programs.IonTrapSwapProgram object at 0x7f8315c1a978>\n"
     ]
    }
   ],
   "source": [
    "import sys\n",
    "import os\n",
    "import netsquid as ns\n",
    "import pydynaa\n",
    "import pandas\n",
    "import numpy as np\n",
    "\n",
    "from numpy import random\n",
    "from itertools import combinations\n",
    "\n",
    "from netsquid.nodes import Node, Connection, Network\n",
    "\n",
    "from netsquid.protocols import Protocol, NodeProtocol, Signals\n",
    "\n",
    "from netsquid.util.datacollector import DataCollector\n",
    "\n",
    "import netsquid.qubits.ketstates as ks\n",
    "\n",
    "from netsquid.examples.teleportation import example_network_setup\n",
    "from netsquid.qubits import qubitapi as qapi\n",
    "from netsquid.qubits.qubitapi import ops\n",
    "from netsquid.qubits import StateSampler\n",
    "\n",
    "from netsquid.components import ClassicalChannel, QuantumChannel, QuantumProgram, QuantumProcessor, INSTR_MEASURE\n",
    "from netsquid.components.qsource import QSource, SourceStatus\n",
    "from netsquid.components.models import DelayModel, FixedDelayModel, FibreDelayModel, FibreLossModel, DephaseNoiseModel, DepolarNoiseModel\n",
    "from netsquid.components.qprocessor import QuantumProcessor, PhysicalInstruction\n",
    "from netsquid.components.instructions import INSTR_ROT_Z, INSTR_INIT, INSTR_EMIT, IMeasureFaulty\n",
    "\n",
    "import netsquid.components.instructions as instr\n",
    "\n",
    "import import_ipynb\n",
    "from NoiseModels import EmissionNoiseModel, CollectiveDephasingNoiseModel\n",
    "from Instructions import IonTrapMultiQubitRotation, IonTrapMSGate, INSTR_INIT_BELL\n",
    "from nstrappedions.InitPhoton import SendPhoton\n",
    "from programs import emit_prog"
   ]
  },
  {
   "cell_type": "markdown",
   "id": "435d0c52",
   "metadata": {},
   "source": [
    "#### testing import successful"
   ]
  },
  {
   "cell_type": "code",
   "execution_count": 4,
   "id": "bef14ec4",
   "metadata": {},
   "outputs": [
    {
     "data": {
      "text/plain": [
       "Instruction: ms_gate_theta=0.5_pi"
      ]
     },
     "execution_count": 4,
     "metadata": {},
     "output_type": "execute_result"
    }
   ],
   "source": [
    "tester1 = IonTrapMSGate(2)\n",
    "tester1"
   ]
  },
  {
   "cell_type": "code",
   "execution_count": 5,
   "id": "a3480840",
   "metadata": {},
   "outputs": [
    {
     "data": {
      "text/plain": [
       "SendPhoton(name='ion_trap_quantum_communication_device')"
      ]
     },
     "execution_count": 5,
     "metadata": {},
     "output_type": "execute_result"
    }
   ],
   "source": [
    "tester2 = SendPhoton(2)\n",
    "tester2"
   ]
  },
  {
   "cell_type": "code",
   "execution_count": 6,
   "id": "1d6eeebe",
   "metadata": {},
   "outputs": [],
   "source": [
    "#emission_validation()"
   ]
  },
  {
   "cell_type": "code",
   "execution_count": null,
   "id": "077ff988",
   "metadata": {},
   "outputs": [],
   "source": []
  },
  {
   "cell_type": "markdown",
   "id": "a805d1d0",
   "metadata": {},
   "source": [
    "## 1. Initialize"
   ]
  },
  {
   "cell_type": "code",
   "execution_count": 8,
   "id": "91fd053c",
   "metadata": {},
   "outputs": [],
   "source": [
    "# initalizing ba_ion + photon\n",
    "\n",
    "def setup(collection_efficiency, fiber_length, attenutation):\n",
    "    #attenuation in dB/km\n",
    "    #from thor labs attenuation = 30\n",
    "    #fiber_length = lenght before beam splitter + length after beam splitter = 2 + 2 = 4 m\n",
    "    #this setup avoids accounting for noise from beamsplitter\n",
    "    #https://www.thorlabs.com/newgrouppage9.cfm?objectgroup_id=1362\n",
    "    #https://www.thorlabs.com/drawings/393bc612d06a8b2b-22BB6E3C-CFFC-5230-EB01198D395F1B14/SM450-SpecSheet.pdf\n",
    "    \n",
    "    ion_trap = SendPhoton(num_postions=1, collection_efficiency=collection_efficiency)\n",
    "    # set collection_efficiency = (1 - 0.1%) when declaring\n",
    "    # this shold account for S_1/2 to P_1/2 Ba transition\n",
    "    # collection_efficiency =  probability that the qubit is not lost during emission. \n",
    "    \n",
    "    fiber_loss_model = FibreLossModel(p_loss_length=attenuation, p_loss_init=.1e-2)\n",
    "    #setting p_loss_init = .01 (99% usually Ba excitation works)\n",
    "    #double counting for phenomenon in iontrap thru colleciton_efficiency and here thru p_loss_init\n",
    "    fiber_delay_model = FibreDelayModel(c=3e8/1.5)\n",
    "    \n",
    "    fiber = QuantumChannel(name=\"fiber\", length=fiber_length,\n",
    "                          models={\"quantum_loss_model\": fiber_loss_model, \n",
    "                                 \"delay_model\": fiber_delay_model},\n",
    "                          transmit_empty_items=True)\n",
    "    \n",
    "    fiber.ports[\"send\"].connect(ion_trap.ports[\"qout\"])\n",
    "    collection_port = fiber.ports[\"recv\"]\n",
    "\n",
    "    # collection_port = ion_trap.ports[\"qout\"]\n",
    "\n",
    "    return ion_trap, collection_port\n"
   ]
  },
  {
   "cell_type": "code",
   "execution_count": 9,
   "id": "64906aa6",
   "metadata": {},
   "outputs": [],
   "source": [
    "#if executing idea2 in measure, try declaring qubits something like this:\n",
    "\n",
    "\n",
    "#q1, q2 = ns.qubits.create_qubits(2)  # separate states |0>, |0>"
   ]
  },
  {
   "cell_type": "code",
   "execution_count": null,
   "id": "e2add00f",
   "metadata": {},
   "outputs": [],
   "source": []
  },
  {
   "cell_type": "markdown",
   "id": "817566a8",
   "metadata": {},
   "source": [
    "# 2. Emission"
   ]
  },
  {
   "cell_type": "code",
   "execution_count": 10,
   "id": "d4f2faa0",
   "metadata": {},
   "outputs": [],
   "source": [
    "class EmitProg(QuantumProgram):\n",
    "\n",
    "    default_num_qubits = 2\n",
    "\n",
    "    def program(self):\n",
    "        memory_position, emission_position = self.get_qubit_indices()\n",
    "        self.apply(instruction=INSTR_INIT, qubit_indices=memory_position)\n",
    "        self.apply(instruction=INSTR_EMIT, qubit_indices=[memory_position, emission_position])\n",
    "        yield self.run()"
   ]
  },
  {
   "cell_type": "code",
   "execution_count": 11,
   "id": "3fc75f0a",
   "metadata": {},
   "outputs": [
    {
     "data": {
      "text/plain": [
       "<__main__.EmitProg at 0x7f8315b31390>"
      ]
     },
     "execution_count": 11,
     "metadata": {},
     "output_type": "execute_result"
    }
   ],
   "source": [
    "emit_prog = EmitProg()\n",
    "emit_prog"
   ]
  },
  {
   "cell_type": "code",
   "execution_count": 12,
   "id": "ff39c9d1",
   "metadata": {},
   "outputs": [
    {
     "data": {
      "text/plain": [
       "'\\nplt.figure()\\nplt.errorbar(x, y=success_probs, yerr=success_prob_errors, label=\"measured\")\\nplt.plot(x, expected_success_probs, label=\"expected\")\\nplt.xlabel(xstring)\\nplt.ylabel(\"success probability)\")\\nplt.legend()\\nplt.show()\\n'"
      ]
     },
     "execution_count": 12,
     "metadata": {},
     "output_type": "execute_result"
    }
   ],
   "source": [
    "# figure out how to handle no photon detected at phtoonic entangler\n",
    "# code below from emission_validation (implementing idea2: ad probability portal proceeds either way, must check lke emission_validation protocol if geting expected proceed prob)\n",
    "\n",
    "\"\"\"\n",
    "\n",
    "# ns.logger.setLevel(logging.DEBUG)\n",
    "\n",
    "# x = np.arange(0.1, 1, 0.1)\n",
    "# xstring = \"collection efficiency\"\n",
    "\n",
    "x = range(1, 10)\n",
    "xstring = \"fiber length\"\n",
    "\n",
    "collection_efficiency = 1\n",
    "fiber_length = 1\n",
    "attenuation = 0.25\n",
    "\n",
    "success_probs = []\n",
    "success_prob_errors = []\n",
    "expected_success_probs = []\n",
    "\n",
    "for fiber_length in x:\n",
    "\n",
    "    ion_trap, collection_port = setup(collection_efficiency=collection_efficiency,\n",
    "                                      fiber_length=fiber_length,\n",
    "                                      attenuation=attenuation)\n",
    "    fail_count = 0\n",
    "    num_tries = 500\n",
    "    outcomes = []\n",
    "    for _ in range(num_tries):\n",
    "        ion_trap.execute_program(emit_prog)\n",
    "        ns.sim_run()\n",
    "        emitted_message = collection_port.rx_output()\n",
    "        emitted_qubit = emitted_message.items[0]\n",
    "        if emitted_qubit is None:\n",
    "            outcomes.append(0)\n",
    "        else:\n",
    "            if emitted_qubit.qstate is None:\n",
    "                outcomes.append(0)\n",
    "            else:\n",
    "                outcomes.append(1)\n",
    "\n",
    "    success_prob = np.mean(outcomes)\n",
    "    success_probs.append(success_prob)\n",
    "    success_prob_error = np.std(outcomes) / math.sqrt(len(outcomes))\n",
    "    success_prob_errors.append(success_prob_error)\n",
    "    expected_success_prob = collection_efficiency * np.power(10, - attenuation * fiber_length / 10)\n",
    "    expected_success_probs.append(expected_success_prob)\n",
    "\"\"\"\n",
    "\n",
    "\"\"\"\n",
    "plt.figure()\n",
    "plt.errorbar(x, y=success_probs, yerr=success_prob_errors, label=\"measured\")\n",
    "plt.plot(x, expected_success_probs, label=\"expected\")\n",
    "plt.xlabel(xstring)\n",
    "plt.ylabel(\"success probability)\")\n",
    "plt.legend()\n",
    "plt.show()\n",
    "\"\"\""
   ]
  },
  {
   "cell_type": "code",
   "execution_count": null,
   "id": "a374fd9f",
   "metadata": {},
   "outputs": [],
   "source": []
  },
  {
   "cell_type": "code",
   "execution_count": null,
   "id": "70ab5aed",
   "metadata": {},
   "outputs": [],
   "source": []
  },
  {
   "cell_type": "code",
   "execution_count": null,
   "id": "39d5cd55",
   "metadata": {},
   "outputs": [],
   "source": []
  },
  {
   "cell_type": "markdown",
   "id": "b9724120",
   "metadata": {},
   "source": [
    "## 3. Measure"
   ]
  },
  {
   "cell_type": "code",
   "execution_count": 13,
   "id": "66feaa4a",
   "metadata": {
    "scrolled": true
   },
   "outputs": [
    {
     "data": {
      "text/plain": [
       "(0, 1.0)"
      ]
     },
     "execution_count": 13,
     "metadata": {},
     "output_type": "execute_result"
    }
   ],
   "source": [
    "# idea2: \n",
    "#observable (Operator, optional) – Hermitian operator to measure qubit with. Default is the Z observable.\n",
    "\n",
    "\n",
    "#combine_qubits([q1, q2])  # state |00>\n",
    "ns.qubits.measure(q2) "
   ]
  },
  {
   "cell_type": "code",
   "execution_count": 14,
   "id": "177055d1",
   "metadata": {},
   "outputs": [
    {
     "name": "stdout",
     "output_type": "stream",
     "text": [
      "(0, 1.0)\n",
      "(0, 1.0)\n",
      "[[1.+0.j 0.+0.j]\n",
      " [0.+0.j 0.+0.j]]\n",
      "[[1.+0.j 0.+0.j]\n",
      " [0.+0.j 0.+0.j]]\n"
     ]
    }
   ],
   "source": [
    "print(ns.qubits.measure(q2))\n",
    "print(ns.qubits.measure(q1))\n",
    "print(ns.qubits.reduced_dm(q2))  #how to get reduced density matrix\n",
    "print(ns.qubits.reduced_dm(q1))  #how to get reduced density matrix"
   ]
  },
  {
   "cell_type": "code",
   "execution_count": 15,
   "id": "f0a94cd8",
   "metadata": {},
   "outputs": [],
   "source": [
    "# idea1: \n",
    "\n",
    "def ion_trap_meas_prog(meas_basis):\n",
    "\n",
    "    if meas_basis != \"X\" and meas_basis != \"Z\":\n",
    "        raise ValueError(\"Measurement basis should be either X or Z\")\n",
    "    prog = QuantumProgram(num_qubits=1, parallel=False)\n",
    "    q = prog.get_qubit_indices()\n",
    "    if meas_basis == \"X\":\n",
    "        prog.apply(instruction=INSTR_ROT_Z, qubit_indices=q, angle=np.pi)\n",
    "        prog.apply(IonTrapMultiQubitRotation(num_positions=1), qubit_indices=q, phi=np.pi / 2,\n",
    "                   theta=np.pi / 2)\n",
    "    prog.apply(INSTR_MEASURE, qubit_indices=q, output_key=\"outcome\")\n",
    "\n",
    "    return prog"
   ]
  },
  {
   "cell_type": "code",
   "execution_count": 16,
   "id": "03eeea4b",
   "metadata": {},
   "outputs": [
    {
     "name": "stdout",
     "output_type": "stream",
     "text": [
      "<netsquid.components.qprogram.QuantumProgram object at 0x7f8315b466d8>\n",
      "<netsquid.components.qprogram.QuantumProgram object at 0x7f8315b469b0>\n"
     ]
    }
   ],
   "source": [
    "# test idea1\n",
    "ion_trap_meas_z = ion_trap_meas_prog(\"Z\")\n",
    "ion_trap_meas_x = ion_trap_meas_prog(\"X\")\n",
    "print(ion_trap_meas_z)\n",
    "print(ion_trap_meas_x)"
   ]
  },
  {
   "cell_type": "code",
   "execution_count": null,
   "id": "329d6ab1",
   "metadata": {},
   "outputs": [],
   "source": []
  },
  {
   "cell_type": "markdown",
   "id": "7e0a0828",
   "metadata": {},
   "source": [
    "## 4. If Detected?"
   ]
  },
  {
   "cell_type": "code",
   "execution_count": 7,
   "id": "51e32153",
   "metadata": {},
   "outputs": [],
   "source": [
    "# initializng yb (movign this to ahndle after photonic entangnler)\n",
    "\n",
    "class InitStateProgram(QuantumProgram):\n",
    "    \"\"\"Program to create a qubit and transform it to the y0 state.\n",
    "\n",
    "    \"\"\"\n",
    "    default_num_qubits = 1\n",
    "\n",
    "    def program(self):\n",
    "        q1, = self.get_qubit_indices(1)\n",
    "        self.apply(instr.INSTR_INIT, q1)\n",
    "        self.apply(instr.INSTR_H, q1)\n",
    "        self.apply(instr.INSTR_S, q1)\n",
    "        yield self.run()"
   ]
  },
  {
   "cell_type": "code",
   "execution_count": 17,
   "id": "9f3951a0",
   "metadata": {},
   "outputs": [],
   "source": [
    "# if detected, proceed\n",
    "# otherwise, resample()\n",
    "# pull from nstrappedions"
   ]
  },
  {
   "cell_type": "code",
   "execution_count": null,
   "id": "25977ef5",
   "metadata": {},
   "outputs": [],
   "source": []
  },
  {
   "cell_type": "code",
   "execution_count": null,
   "id": "0c3448f7",
   "metadata": {},
   "outputs": [],
   "source": []
  },
  {
   "cell_type": "code",
   "execution_count": null,
   "id": "ca22e5ac",
   "metadata": {},
   "outputs": [],
   "source": []
  },
  {
   "cell_type": "markdown",
   "id": "d5df95d1",
   "metadata": {},
   "source": [
    "#example simulation setup with data collector for fidelities\n",
    "\n",
    "def example_sim_setup(nodeA, nodeB):\n",
    "    \"\"\"Example ismulation setup with data collector for teleporation protocol.\n",
    "    \n",
    "    Parameters\n",
    "    ----------\n",
    "    node_A : :class:`~netsquid.nodes.node.Node`\n",
    "        Node corresponding to Alice.\n",
    "    node_B : :class:`~netsquid.nodes.node.Node`\n",
    "        Node corresponding to Bob.\n",
    "\n",
    "    Returns\n",
    "    -------\n",
    "    :class:`~netsquid.protocols.protocol.Protocol`\n",
    "        Alice's protocol.\n",
    "    :class:`~netsquid.protocols.protocol.Protocol`\n",
    "        Bob's protocol.\n",
    "    :class:`~netsquid.util.datacollector.DataCollector`\n",
    "        Data collector to record fidelity.\n",
    "\n",
    "    \"\"\"\n",
    "    \n",
    "    def collect_fidelity_data(evexpr):\n",
    "        protocol = evexpr.triggered_events[-1].source\n",
    "        mem_pos = protocol.get_signal_result(Signals.SUCCESS)\n",
    "        qubit, = protocol.node.qmemory.pop(mem_pos)\n",
    "        fidelity = qapi.fidelity(qubit, ns.y0, squared = True)\n",
    "        qapi.discard(qubit)\n",
    "        return {\"fidelity\": fidelity}\n",
    "    \n",
    "    protocol_alice = BellMeasurementProtocol(nodeA)\n",
    "    protocol_bob = CorrectionProtocol(nodeB)\n",
    "    dc = DataCollector(collect_fidelity_data)\n",
    "    dc.collect_on(pydynaa.EventExpression(source=protocol_bob, \n",
    "                                         event_type=Signals.SUCCESS.value))\n",
    "    return protocol_alice, protocol_bob, dc"
   ]
  },
  {
   "cell_type": "markdown",
   "id": "154db35f",
   "metadata": {},
   "source": [
    "#run experiment\n",
    "\n",
    "#measure average fidelity of 1000 runs and run that experiment for different depolarization rates\n",
    "def run_experiment(num_runs, depolar_rates, distance=4e-3, dephase_rate=0.0):\n",
    "    \"\"\"Setup and run the simulation experiment.\n",
    "\n",
    "    Parameters\n",
    "    ----------\n",
    "    num_runs : int\n",
    "        Number of cycles to run teleportation for.\n",
    "    depolar_rates : list of float\n",
    "        List of depolarization rates to repeat experiment for.\n",
    "    distance : float, optional\n",
    "        Distance between nodes [km].\n",
    "    dephase_rate : float, optional\n",
    "        Dephasing rate of physical measurement instruction.\n",
    "\n",
    "    Returns\n",
    "    -------\n",
    "    :class:`pandas.DataFrame`\n",
    "        Dataframe with recorded fidelity data.\n",
    "\n",
    "    \"\"\"\n",
    "    fidelity_data = pandas.DataFrame()\n",
    "    for i, depolar_rate in enumerate(depolar_rates):\n",
    "        ns.sim_reset()\n",
    "        network = example_network_setup(distance, depolar_rate, dephase_rate)\n",
    "        node_a = network.get_node(\"Alice\")\n",
    "        node_b = network.get_node(\"Bob\")\n",
    "        protocol_alice, protocol_bob, dc = example_sim_setup(node_a, node_b)\n",
    "        protocol_alice.start()\n",
    "        protocol_bob.start()\n",
    "        q_conn = network.get_connection(node_a, node_b, label=\"quantum\")\n",
    "        cycle_runtime = (q_conn.subcomponents[\"qsource\"].subcomponents[\"internal_clock\"]\n",
    "                         .models[\"timing_model\"].delay)\n",
    "        ns.sim_run(cycle_runtime * num_runs + 1)\n",
    "        df = dc.dataframe\n",
    "        df['depolar_rate'] = depolar_rate\n",
    "        fidelity_data = fidelity_data.append(df)\n",
    "    return fidelity_data"
   ]
  },
  {
   "cell_type": "markdown",
   "id": "8911f5d7",
   "metadata": {},
   "source": [
    "## 7. Output (get density matrix or get fidelity v. dephase graph)"
   ]
  },
  {
   "cell_type": "code",
   "execution_count": 18,
   "id": "ba8f5201",
   "metadata": {},
   "outputs": [],
   "source": [
    "# show figure when running full simulation\n",
    "\n",
    "def create_plot():\n",
    "    \"\"\"Show a plot of fidelity verus depolarization rate.\n",
    "\n",
    "    \"\"\"\n",
    "    from matplotlib import pyplot as plt\n",
    "    dephase_rates = np.array([1e6 * i for i in range(0, 200, 10)])\n",
    "    #coherence_times = 1/dephase_rates\n",
    "    fidelities = run_experiment(num_runs=1000, distance=4e-3,\n",
    "                                depolar_rates=0, dephase_rate=dephase_rates)\n",
    "    plot_style = {'kind': 'scatter', 'grid': True,\n",
    "                  'title': \"Fidelity of the teleported quantum state\"}\n",
    "    data = fidelities.groupby(\"depolar_rate\")['fidelity'].agg(\n",
    "        fidelity='mean', sem='sem').reset_index()\n",
    "    data.plot(x='depolar_rate', y='fidelity', yerr='sem', **plot_style)\n",
    "    plt.show()"
   ]
  },
  {
   "cell_type": "code",
   "execution_count": null,
   "id": "b0629933",
   "metadata": {},
   "outputs": [],
   "source": []
  }
 ],
 "metadata": {
  "kernelspec": {
   "display_name": "Python 3",
   "language": "python",
   "name": "python3"
  },
  "language_info": {
   "codemirror_mode": {
    "name": "ipython",
    "version": 3
   },
   "file_extension": ".py",
   "mimetype": "text/x-python",
   "name": "python",
   "nbconvert_exporter": "python",
   "pygments_lexer": "ipython3",
   "version": "3.6.9"
  }
 },
 "nbformat": 4,
 "nbformat_minor": 5
}
