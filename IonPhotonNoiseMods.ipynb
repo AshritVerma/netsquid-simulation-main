{
 "cells": [
  {
   "cell_type": "code",
   "execution_count": 1,
   "id": "69bd5f17",
   "metadata": {},
   "outputs": [],
   "source": [
    "import import_ipynb\n",
    "import random\n",
    "from scipy.linalg import expm\n",
    "from netsquid.components.models.qerrormodels import QuantumErrorModel\n",
    "from netsquid.qubits import qubitapi as qapi\n",
    "from netsquid.qubits.operators import Operator, Z, I"
   ]
  },
  {
   "cell_type": "code",
   "execution_count": 2,
   "id": "997f2419",
   "metadata": {},
   "outputs": [],
   "source": [
    "class IonPhotonDephasingNoiseModel(QuantumErrorModel):\n",
    "    \"\"\"\n",
    "    Model for applying collective dephasing noise to qubit(s) on an ion trap.\n",
    "    \"\"\"\n",
    "\n",
    "    def __init__(self, coherence_time):\n",
    "        super().__init__()\n",
    "        self.required_properties.append('dephasing_rate')\n",
    "        self.coherence_time = coherence_time\n",
    "\n",
    "    def error_operation(self, qubits, delta_time=10e-9, **properties):\n",
    "        \"\"\"Noisy quantum operation to apply to qubits.\n",
    "\n",
    "        Parameters\n",
    "        ----------\n",
    "        qubits : tuple of :obj:`~netsquid.qubits.qubit.Qubit`\n",
    "            Qubits to apply noise to.\n",
    "        delta_time : float, optional\n",
    "            Time qubit has spent on component [ns].\n",
    "\n",
    "        \"\"\"\n",
    "        dephasing_rate = properties['dephasing_rate']\n",
    "        coherence_time = self.coherence_time\n",
    "        if coherence_time != 0.:\n",
    "            rotation_matrix = expm(1j * dephasing_rate * delta_time / coherence_time * Z.arr)\n",
    "        else:\n",
    "            rotation_matrix = I\n",
    "        rotation_operator = Operator(name='rotation_operator', matrix=rotation_matrix,\n",
    "                                     description='collective dephasing operator, rotation rate has been sampled')\n",
    "        for qubit in qubits:\n",
    "            qapi.operate(qubit, rotation_operator)\n"
   ]
  },
  {
   "cell_type": "code",
   "execution_count": null,
   "id": "050acdb2",
   "metadata": {},
   "outputs": [],
   "source": []
  }
 ],
 "metadata": {
  "kernelspec": {
   "display_name": "Python 3",
   "language": "python",
   "name": "python3"
  },
  "language_info": {
   "codemirror_mode": {
    "name": "ipython",
    "version": 3
   },
   "file_extension": ".py",
   "mimetype": "text/x-python",
   "name": "python",
   "nbconvert_exporter": "python",
   "pygments_lexer": "ipython3",
   "version": "3.6.9"
  }
 },
 "nbformat": 4,
 "nbformat_minor": 5
}
