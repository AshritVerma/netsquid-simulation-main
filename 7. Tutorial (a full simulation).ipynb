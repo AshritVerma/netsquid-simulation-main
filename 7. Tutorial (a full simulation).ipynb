{
 "cells": [
  {
   "cell_type": "code",
   "execution_count": 82,
   "id": "60a15fb7",
   "metadata": {},
   "outputs": [],
   "source": [
    "import netsquid as ns\n",
    "import pydynaa\n",
    "import pandas\n",
    "import numpy as np"
   ]
  },
  {
   "cell_type": "code",
   "execution_count": 83,
   "id": "5b26b733",
   "metadata": {},
   "outputs": [],
   "source": [
    "from netsquid.nodes import Node, Network\n",
    "from netsquid.nodes.connections import Connection\n",
    "\n",
    "from netsquid.protocols import Protocol, NodeProtocol, Signals\n",
    "\n",
    "from netsquid.util.datacollector import DataCollector\n",
    "\n",
    "import netsquid.qubits.ketstates as ks\n",
    "\n",
    "from netsquid.examples.teleportation import example_network_setup\n",
    "\n",
    "from netsquid.qubits import qubitapi as qapi\n",
    "from netsquid.qubits import StateSampler\n",
    "\n",
    "from netsquid.components import ClassicalChannel, QuantumChannel, QuantumProgram, QuantumProcessor\n",
    "from netsquid.components.qsource import QSource, SourceStatus\n",
    "from netsquid.components.models import DelayModel, FixedDelayModel, FibreDelayModel, DephaseNoiseModel, DepolarNoiseModel\n",
    "from netsquid.components.qprocessor import PhysicalInstruction\n",
    "import netsquid.components.instructions as instr"
   ]
  },
  {
   "cell_type": "code",
   "execution_count": 84,
   "id": "0b364ecd",
   "metadata": {
    "scrolled": false
   },
   "outputs": [
    {
     "name": "stdout",
     "output_type": "stream",
     "text": [
      "Teleportation example module is located at: /Users/ashrit/opt/anaconda3/lib/python3.8/site-packages/netsquid/examples/teleportation.py\n"
     ]
    }
   ],
   "source": [
    "print(f\"Teleportation example module is located at: \"f\"{ns.examples.teleportation.__file__}\")"
   ]
  },
  {
   "cell_type": "code",
   "execution_count": null,
   "id": "3c95b704",
   "metadata": {},
   "outputs": [],
   "source": [
    " "
   ]
  },
  {
   "cell_type": "markdown",
   "id": "500c2276",
   "metadata": {},
   "source": [
    "## Setting up the complete network"
   ]
  },
  {
   "cell_type": "markdown",
   "id": "e7c947e3",
   "metadata": {},
   "source": [
    "Set up physical network with all components using network, accounting for noisy quantum operations (integration of quantum processor instuctions instead of quantum memory)"
   ]
  },
  {
   "cell_type": "code",
   "execution_count": 85,
   "id": "c66aa082",
   "metadata": {},
   "outputs": [],
   "source": [
    "class EntanglingConnection(Connection):\n",
    "    \"\"\"A connection that generates entanglement.\n",
    "\n",
    "    Consists of a midpoint holding a quantum source that connects to\n",
    "    outgoing quantum channels.\n",
    "\n",
    "    Parameters\n",
    "    ----------\n",
    "    length : float\n",
    "        End to end length of the connection [km].\n",
    "    source_frequency : float\n",
    "        Frequency with which midpoint entanglement source generates entanglement [Hz].\n",
    "    name : str, optional\n",
    "        Name of this connection.\n",
    "\n",
    "    \"\"\"\n",
    "\n",
    "    def __init__(self, length, source_frequency, name=\"EntanglingConnection\"):\n",
    "        super().__init__(name=name)\n",
    "        qsource = QSource(f\"qsource_{name}\", StateSampler([ks.b00], [1.0]), num_ports=2,\n",
    "                          timing_model=FixedDelayModel(delay=1e9 / source_frequency),\n",
    "                          status=SourceStatus.INTERNAL)\n",
    "        self.add_subcomponent(qsource, name=\"qsource\")\n",
    "        qchannel_c2a = QuantumChannel(\"qchannel_C2A\", length=length / 2,\n",
    "                                      models={\"delay_model\": FibreDelayModel()})\n",
    "        qchannel_c2b = QuantumChannel(\"qchannel_C2B\", length=length / 2,\n",
    "                                      models={\"delay_model\": FibreDelayModel()})\n",
    "        # Add channels and forward quantum channel output to external port output:\n",
    "        self.add_subcomponent(qchannel_c2a, forward_output=[(\"A\", \"recv\")])\n",
    "        self.add_subcomponent(qchannel_c2b, forward_output=[(\"B\", \"recv\")])\n",
    "        # Connect qsource output to quantum channel input:\n",
    "        qsource.ports[\"qout0\"].connect(qchannel_c2a.ports[\"send\"])\n",
    "        qsource.ports[\"qout1\"].connect(qchannel_c2b.ports[\"send\"])\n"
   ]
  },
  {
   "cell_type": "code",
   "execution_count": 86,
   "id": "c023cc3f",
   "metadata": {},
   "outputs": [],
   "source": [
    "class ClassicalConnection(Connection):\n",
    "    \"\"\"A connection that transmits classical messages in one direction, from A to B.\n",
    "\n",
    "    Parameters\n",
    "    ----------\n",
    "    length : float\n",
    "        End to end length of the connection [km].\n",
    "    name : str, optional\n",
    "       Name of this connection.\n",
    "\n",
    "    \"\"\"\n",
    "\n",
    "    def __init__(self, length, name=\"ClassicalConnection\"):\n",
    "        super().__init__(name=name)\n",
    "        self.add_subcomponent(ClassicalChannel(\"Channel_A2B\", length=length,\n",
    "                                               models={\"delay_model\": FibreDelayModel()}),\n",
    "                              forward_input=[(\"A\", \"send\")],\n",
    "                              forward_output=[(\"B\", \"recv\")])"
   ]
  },
  {
   "cell_type": "markdown",
   "id": "8f805b2e",
   "metadata": {},
   "source": [
    "now, let's program the quantum processor. only need one since Alice and Bob use the same quantum processor"
   ]
  },
  {
   "cell_type": "code",
   "execution_count": 87,
   "id": "37f46c94",
   "metadata": {},
   "outputs": [],
   "source": [
    "def create_processor(depolar_rate, dephase_rate):\n",
    "    \"\"\"\n",
    "    Factory to create a quantum processor for each end node.\n",
    "    \n",
    "    Has two memory positions and the physcial instructions necessary for teleportation.\n",
    "    \n",
    "    Parameters\n",
    "    ----------\n",
    "    depolar_rate : float\n",
    "        Depolarization rate of qubits in memory.\n",
    "    dephase_rate : float\n",
    "        Dephasing rate of physical measurement instruction\n",
    "    \n",
    "    Returns\n",
    "    ----------\n",
    "    :class: ~netsquid.components.qprocessor.QuantumProcessor\n",
    "        A quantum processor to specification.\n",
    "    \"\"\"\n",
    "    # We'll give both Alice and Bob the same kind of processor\n",
    "    \n",
    "    measure_noise_model = DephaseNoiseModel(dephase_rate = dephase_rate, time_independent = True)\n",
    "    \n",
    "    physical_instructions = [\n",
    "        PhysicalInstruction(instr.INSTR_INIT, duration=3, parallel=True),\n",
    "        PhysicalInstruction(instr.INSTR_H, duration=1, parallel=True, topology=[0,1]),\n",
    "        PhysicalInstruction(instr.INSTR_X, duration=1, parallel=True, topology=[0]),\n",
    "        PhysicalInstruction(instr.INSTR_Z, duration=1, parallel=True, topology=[0]),\n",
    "        PhysicalInstruction(instr.INSTR_S, duration=1, parallel=True, topology=[0]),\n",
    "        PhysicalInstruction(instr.INSTR_CNOT, duration=4, parallel=True, topology=[(0,1)]),\n",
    "        PhysicalInstruction(instr.INSTR_MEASURE, duration=7, parallel=True, topology=[0], \n",
    "                            quantum_noise_model=measure_noise_model, apply_q_noise_after=False),\n",
    "        PhysicalInstruction(instr.INSTR_MEASURE, duration=7, parallel=False, topology=[1])\n",
    "    ]\n",
    "    \n",
    "    memory_noise_model = DepolarNoiseModel(depolar_rate=depolar_rate)\n",
    "    processor = QuantumProcessor(\"quantum processor\", num_positions=2, \n",
    "                                memory_noise_models=[memory_noise_model] *2,\n",
    "                                phys_instructions=physical_instructions)\n",
    "    return processor"
   ]
  },
  {
   "cell_type": "code",
   "execution_count": 88,
   "id": "39e99c96",
   "metadata": {},
   "outputs": [],
   "source": [
    "# completing network setup by connecting alice and bob to quantum processor and returning the network\n",
    "\n",
    "def example_network_setup(node_distance=4e-3, depolar_rate=1e7, dephase_rate=0.2):\n",
    "    \"\"\"Setup the physical components of the quantum network.\n",
    "\n",
    "    Parameters\n",
    "    ----------\n",
    "    node_distance : float, optional\n",
    "        Distance between nodes.\n",
    "    depolar_rate : float, optional\n",
    "        Depolarization rate of qubits in memory.\n",
    "    dephase_rate : float, optional\n",
    "        Dephasing rate of physical measurement instruction.\n",
    "\n",
    "    Returns\n",
    "    -------\n",
    "    :class:`~netsquid.nodes.node.Network`\n",
    "        A Network with nodes \"Alice\" and \"Bob\",\n",
    "        connected by an entangling connection and a classical connection\n",
    "\n",
    "    \"\"\"\n",
    "    # Setup nodes Alice and Bob with quantum processor:\n",
    "    alice = Node(\"Alice\", qmemory=create_processor(depolar_rate, dephase_rate))\n",
    "    bob = Node(\"Bob\", qmemory=create_processor(depolar_rate, dephase_rate))\n",
    "    # Create a network\n",
    "    network = Network(\"Teleportation_network\")\n",
    "    network.add_nodes([alice, bob])\n",
    "    # Setup classical connection between nodes:\n",
    "    c_conn = ClassicalConnection(length=node_distance)\n",
    "    network.add_connection(alice, bob, connection=c_conn, label=\"classical\",\n",
    "                           port_name_node1=\"cout_bob\", port_name_node2=\"cin_alice\")\n",
    "    # Setup entangling connection between nodes:\n",
    "    source_frequency = 4e4 / node_distance\n",
    "    q_conn = EntanglingConnection(\n",
    "        length=node_distance, source_frequency=source_frequency)\n",
    "    port_ac, port_bc = network.add_connection(\n",
    "        alice, bob, connection=q_conn, label=\"quantum\",\n",
    "        port_name_node1=\"qin_charlie\", port_name_node2=\"qin_charlie\")\n",
    "    alice.ports[port_ac].forward_input(alice.qmemory.ports['qin1'])\n",
    "    bob.ports[port_bc].forward_input(bob.qmemory.ports['qin0'])\n",
    "    return network"
   ]
  },
  {
   "cell_type": "code",
   "execution_count": null,
   "id": "450cd570",
   "metadata": {},
   "outputs": [],
   "source": []
  },
  {
   "cell_type": "markdown",
   "id": "24cd5575",
   "metadata": {},
   "source": [
    "## Setting up the simulation"
   ]
  },
  {
   "cell_type": "markdown",
   "id": "af2ed280",
   "metadata": {},
   "source": [
    "before, create protocl and quantum programs. \n",
    "<br> now, time to execute programs within a protocol"
   ]
  },
  {
   "cell_type": "code",
   "execution_count": 89,
   "id": "57cc6359",
   "metadata": {},
   "outputs": [],
   "source": [
    "class InitStateProgram(QuantumProgram):\n",
    "    \"\"\"Program to create a qubit and transform it to the y0 state.\n",
    "\n",
    "    \"\"\"\n",
    "    default_num_qubits = 1\n",
    "\n",
    "    def program(self):\n",
    "        q1, = self.get_qubit_indices(1)\n",
    "        self.apply(instr.INSTR_INIT, q1)\n",
    "        self.apply(instr.INSTR_H, q1)\n",
    "        self.apply(instr.INSTR_S, q1)\n",
    "        yield self.run()"
   ]
  },
  {
   "cell_type": "code",
   "execution_count": 90,
   "id": "e288be2b",
   "metadata": {},
   "outputs": [],
   "source": [
    "# use a program to perform a Bell measurement\n",
    "\n",
    "class BellMeasurementProgram(QuantumProgram):\n",
    "    \"\"\"Program to perform a Bell measurement on two qubits.\n",
    "\n",
    "    Measurement results are stored in output keys \"M1\" and \"M2\"\n",
    "\n",
    "    \"\"\"\n",
    "    default_num_qubits = 2\n",
    "\n",
    "    def program(self):\n",
    "        q1, q2 = self.get_qubit_indices(2)\n",
    "        self.apply(instr.INSTR_CNOT, [q1, q2])\n",
    "        self.apply(instr.INSTR_H, q1)\n",
    "        self.apply(instr.INSTR_MEASURE, q1, output_key=\"M1\")\n",
    "        self.apply(instr.INSTR_MEASURE, q2, output_key=\"M2\")\n",
    "        yield self.run()"
   ]
  },
  {
   "cell_type": "markdown",
   "id": "0dbc87e2",
   "metadata": {},
   "source": [
    "instead of initialziing bell measurement wiht another protocol, the protocll usesz th eprogram to initalize its state. the program is executed, and the protocol yields until either the program is done or it has received the qubit from Charlie in its memory."
   ]
  },
  {
   "cell_type": "code",
   "execution_count": 91,
   "id": "6d435679",
   "metadata": {},
   "outputs": [],
   "source": [
    "class BellMeasurementProtocol(NodeProtocol):\n",
    "    \"\"\"Protocol to perform a Bell measurement when qubits are available.\n",
    "\n",
    "    \"\"\"\n",
    "\n",
    "    def run(self):\n",
    "        qubit_initialised = False\n",
    "        entanglement_ready = False\n",
    "        qubit_init_program = InitStateProgram()\n",
    "        measure_program = BellMeasurementProgram()\n",
    "        self.node.qmemory.execute_program(qubit_init_program)\n",
    "        while True:\n",
    "            expr = yield (self.await_program(self.node.qmemory) |\n",
    "                          self.await_port_input(self.node.ports[\"qin_charlie\"]))\n",
    "            if expr.first_term.value:\n",
    "                qubit_initialised = True\n",
    "            else:\n",
    "                entanglement_ready = True\n",
    "            if qubit_initialised and entanglement_ready:\n",
    "                # Once both qubits arrived, do BSM program and send to Bob\n",
    "                yield self.node.qmemory.execute_program(measure_program)\n",
    "                m1, = measure_program.output[\"M1\"]\n",
    "                m2, = measure_program.output[\"M2\"]\n",
    "                self.node.ports[\"cout_bob\"].tx_output((m1, m2))\n",
    "                self.send_signal(Signals.SUCCESS)\n",
    "                qubit_initialised = False\n",
    "                entanglement_ready = False\n",
    "                self.node.qmemory.execute_program(qubit_init_program)"
   ]
  },
  {
   "cell_type": "markdown",
   "id": "ff4d9a37",
   "metadata": {},
   "source": [
    "On Bob's side, the corrections should also be done with isntrucitons. it is possible to execute single instructions instead of creating a new program for that as such:"
   ]
  },
  {
   "cell_type": "code",
   "execution_count": 92,
   "id": "4ba8459d",
   "metadata": {},
   "outputs": [],
   "source": [
    "class CorrectionProtocol(NodeProtocol):\n",
    "    \"\"\"Protocol to perform corrections on Bobs qubit when available and measurements received\n",
    "\n",
    "    \"\"\"\n",
    "\n",
    "    def run(self):\n",
    "        port_alice = self.node.ports[\"cin_alice\"]\n",
    "        port_charlie = self.node.ports[\"qin_charlie\"]\n",
    "        entanglement_ready = False\n",
    "        meas_results = None\n",
    "        while True:\n",
    "            # Wait for measurement results of Alice or qubit from Charlie to arrive\n",
    "            expr = yield (self.await_port_input(port_alice) |\n",
    "                          self.await_port_input(port_charlie))\n",
    "            if expr.first_term.value:  # If measurements from Alice arrived\n",
    "                meas_results, = port_alice.rx_input().items\n",
    "            else:\n",
    "                entanglement_ready = True\n",
    "            if meas_results is not None and entanglement_ready:\n",
    "                # Do corrections (blocking)\n",
    "                if meas_results[0] == 1:\n",
    "                    self.node.qmemory.execute_instruction(instr.INSTR_Z)\n",
    "                    yield self.await_program(self.node.qmemory)\n",
    "                if meas_results[1] == 1:\n",
    "                    self.node.qmemory.execute_instruction(instr.INSTR_X)\n",
    "                    yield self.await_program(self.node.qmemory)\n",
    "                self.send_signal(Signals.SUCCESS, 0)\n",
    "                entanglement_ready = False\n",
    "                meas_results = None"
   ]
  },
  {
   "cell_type": "code",
   "execution_count": null,
   "id": "79037464",
   "metadata": {},
   "outputs": [],
   "source": []
  },
  {
   "cell_type": "markdown",
   "id": "d7575adb",
   "metadata": {},
   "source": [
    "## Running the simulation"
   ]
  },
  {
   "cell_type": "markdown",
   "id": "f39cbbe6",
   "metadata": {},
   "source": [
    "results are reset and program executed after all event expressions triggered. thus, protocol setup for multiple runs\n",
    "<br> every time quantum source at C is triggered on a timer, Alice teleports ore qubits\n",
    "<br> once Bob receivs and corrects its qubit we want to compare it with iniital qubit Alice had created using DataCollector\n",
    "<br> DataCollector listens to certain events and stores results about the simulation. since it is intended ot be used after a simulation a data colletor can do actions that are not normally allowed such as reading out the full state of qubits (evne if theya re stored on multiple nodes, breaking locality). \n",
    "<br> data collector fetches qubit of Bob, measures fidelity and discards the qubit. the fidelity is stored inside the data collector."
   ]
  },
  {
   "cell_type": "code",
   "execution_count": 93,
   "id": "04b9a888",
   "metadata": {},
   "outputs": [],
   "source": [
    "def example_sim_setup(nodeA, nodeB):\n",
    "    \"\"\"Example ismulation setup with data collector for teleporation protocol.\n",
    "    \n",
    "    Parameters\n",
    "    ----------\n",
    "    node_A : :class:`~netsquid.nodes.node.Node`\n",
    "        Node corresponding to Alice.\n",
    "    node_B : :class:`~netsquid.nodes.node.Node`\n",
    "        Node corresponding to Bob.\n",
    "\n",
    "    Returns\n",
    "    -------\n",
    "    :class:`~netsquid.protocols.protocol.Protocol`\n",
    "        Alice's protocol.\n",
    "    :class:`~netsquid.protocols.protocol.Protocol`\n",
    "        Bob's protocol.\n",
    "    :class:`~netsquid.util.datacollector.DataCollector`\n",
    "        Data collector to record fidelity.\n",
    "\n",
    "    \"\"\"\n",
    "    \n",
    "    def collect_fidelity_data(evexpr):\n",
    "        protocol = evexpr.triggered_events[-1].source\n",
    "        mem_pos = protocol.get_signal_result(Signals.SUCCESS)\n",
    "        qubit, = protocol.node.qmemory.pop(mem_pos)\n",
    "        fidelity = qapi.fidelity(qubit, ns.y0, squared = True)\n",
    "        qapi.discard(qubit)\n",
    "        return {\"fidelity\": fidelity}\n",
    "    \n",
    "    protocol_alice = BellMeasurementProtocol(nodeA)\n",
    "    protocol_bob = CorrectionProtocol(nodeB)\n",
    "    dc = DataCollector(collect_fidelity_data)\n",
    "    dc.collect_on(pydynaa.EventExpression(source=protocol_bob, \n",
    "                                         event_type=Signals.SUCCESS.value))\n",
    "    return protocol_alice, protocol_bob, dc"
   ]
  },
  {
   "cell_type": "code",
   "execution_count": 94,
   "id": "8ca50720",
   "metadata": {},
   "outputs": [],
   "source": [
    "# measure average fidelity of 1000 runs and run that experiment for different depolarization rates\n",
    "def run_experiment(num_runs, depolar_rates, distance=4e-3, dephase_rate=0.0):\n",
    "    \"\"\"Setup and run the simulation experiment.\n",
    "\n",
    "    Parameters\n",
    "    ----------\n",
    "    num_runs : int\n",
    "        Number of cycles to run teleportation for.\n",
    "    depolar_rates : list of float\n",
    "        List of depolarization rates to repeat experiment for.\n",
    "    distance : float, optional\n",
    "        Distance between nodes [km].\n",
    "    dephase_rate : float, optional\n",
    "        Dephasing rate of physical measurement instruction.\n",
    "\n",
    "    Returns\n",
    "    -------\n",
    "    :class:`pandas.DataFrame`\n",
    "        Dataframe with recorded fidelity data.\n",
    "\n",
    "    \"\"\"\n",
    "    fidelity_data = pandas.DataFrame()\n",
    "    for i, depolar_rate in enumerate(depolar_rates):\n",
    "        ns.sim_reset()\n",
    "        network = example_network_setup(distance, depolar_rate, dephase_rate)\n",
    "        node_a = network.get_node(\"Alice\")\n",
    "        node_b = network.get_node(\"Bob\")\n",
    "        protocol_alice, protocol_bob, dc = example_sim_setup(node_a, node_b)\n",
    "        protocol_alice.start()\n",
    "        protocol_bob.start()\n",
    "        q_conn = network.get_connection(node_a, node_b, label=\"quantum\")\n",
    "        cycle_runtime = (q_conn.subcomponents[\"qsource\"].subcomponents[\"internal_clock\"]\n",
    "                         .models[\"timing_model\"].delay)\n",
    "        ns.sim_run(cycle_runtime * num_runs + 1)\n",
    "        df = dc.dataframe\n",
    "        df['depolar_rate'] = depolar_rate\n",
    "        fidelity_data = fidelity_data.append(df)\n",
    "    return fidelity_data"
   ]
  },
  {
   "cell_type": "code",
   "execution_count": 107,
   "id": "369111b2",
   "metadata": {},
   "outputs": [],
   "source": [
    "#show figure when running full simulation\n",
    "\n",
    "\n",
    "\n",
    "def create_plot():\n",
    "    #Show a plot of fidelity verus depolarization rate.\n",
    "\n",
    "    \n",
    "    from matplotlib import pyplot as plt\n",
    "    depolar_rates = [1e6 * i for i in range(0, 200, 10)]\n",
    "    fidelities = run_experiment(num_runs=1000, distance=4e-3,\n",
    "                                depolar_rates=depolar_rates, dephase_rate=0)\n",
    "    plot_style = {'kind': 'scatter', 'grid': True,\n",
    "                  'title': \"Fidelity of the teleported quantum state\"}\n",
    "    data = fidelities.groupby(\"depolar_rate\")['fidelity'].agg(\n",
    "        fidelity='mean', sem='sem').reset_index()\n",
    "    data.plot(x='depolar_rate', y='fidelity', yerr='sem', **plot_style)\n",
    "    plt.show()"
   ]
  },
  {
   "cell_type": "code",
   "execution_count": 108,
   "id": "8beb50c6",
   "metadata": {},
   "outputs": [
    {
     "data": {
      "text/plain": [
       "'\\n# show figure when running full simulation\\n\\n\\n\\ndef create_plot():\\n    #Show a plot of fidelity verus depolarization rate.\\n\\n    \\n    from matplotlib import pyplot as plt\\n    depolar_rates = np.array([1e6 * i for i in range(0, 200, 10)])\\n    coherence_times = np.array(1/depolar_rates)\\n    fidelities = run_experiment(num_runs=1000, distance=4e-3,\\n                                depolar_rates=depolar_rates, dephase_rate=0)\\n    plot_style = {\\'kind\\': \\'scatter\\', \\'grid\\': True,\\n                  \\'title\\': \"Fidelity of the teleported quantum state\"}\\n    data = fidelities.groupby(\"depolar_rate\")[\\'fidelity\\'].agg(\\n        fidelity=\\'mean\\', sem=\\'sem\\').reset_index()\\n    data.plot(x=\\'dephase_rate\\', y=\\'fidelity\\', yerr=\\'sem\\', **plot_style)\\n    plt.show()\\n'"
      ]
     },
     "execution_count": 108,
     "metadata": {},
     "output_type": "execute_result"
    }
   ],
   "source": [
    "\"\"\"\n",
    "# show figure when running full simulation\n",
    "\n",
    "\n",
    "\n",
    "def create_plot():\n",
    "    #Show a plot of fidelity verus depolarization rate.\n",
    "\n",
    "    \n",
    "    from matplotlib import pyplot as plt\n",
    "    depolar_rates = np.array([1e6 * i for i in range(0, 200, 10)])\n",
    "    coherence_times = np.array(1/depolar_rates)\n",
    "    fidelities = run_experiment(num_runs=1000, distance=4e-3,\n",
    "                                depolar_rates=depolar_rates, dephase_rate=0)\n",
    "    plot_style = {'kind': 'scatter', 'grid': True,\n",
    "                  'title': \"Fidelity of the teleported quantum state\"}\n",
    "    data = fidelities.groupby(\"depolar_rate\")['fidelity'].agg(\n",
    "        fidelity='mean', sem='sem').reset_index()\n",
    "    data.plot(x='dephase_rate', y='fidelity', yerr='sem', **plot_style)\n",
    "    plt.show()\n",
    "\"\"\""
   ]
  },
  {
   "cell_type": "code",
   "execution_count": 109,
   "id": "b1fe55d9",
   "metadata": {
    "scrolled": false
   },
   "outputs": [
    {
     "name": "stderr",
     "output_type": "stream",
     "text": [
      "/Users/ashrit/opt/anaconda3/lib/python3.8/site-packages/netsquid/util/datacollector.py:239: FutureWarning: The frame.append method is deprecated and will be removed from pandas in a future version. Use pandas.concat instead.\n",
      "  self._dataframe = self._dataframe.append(self._data_buffer, ignore_index=True, sort=False)\n",
      "/var/folders/l7/fs0hpyl97bq9j90hp_4t90l80000gn/T/ipykernel_9370/436885066.py:37: FutureWarning: The frame.append method is deprecated and will be removed from pandas in a future version. Use pandas.concat instead.\n",
      "  fidelity_data = fidelity_data.append(df)\n",
      "/Users/ashrit/opt/anaconda3/lib/python3.8/site-packages/netsquid/util/datacollector.py:239: FutureWarning: The frame.append method is deprecated and will be removed from pandas in a future version. Use pandas.concat instead.\n",
      "  self._dataframe = self._dataframe.append(self._data_buffer, ignore_index=True, sort=False)\n",
      "/var/folders/l7/fs0hpyl97bq9j90hp_4t90l80000gn/T/ipykernel_9370/436885066.py:37: FutureWarning: The frame.append method is deprecated and will be removed from pandas in a future version. Use pandas.concat instead.\n",
      "  fidelity_data = fidelity_data.append(df)\n",
      "/Users/ashrit/opt/anaconda3/lib/python3.8/site-packages/netsquid/util/datacollector.py:239: FutureWarning: The frame.append method is deprecated and will be removed from pandas in a future version. Use pandas.concat instead.\n",
      "  self._dataframe = self._dataframe.append(self._data_buffer, ignore_index=True, sort=False)\n",
      "/var/folders/l7/fs0hpyl97bq9j90hp_4t90l80000gn/T/ipykernel_9370/436885066.py:37: FutureWarning: The frame.append method is deprecated and will be removed from pandas in a future version. Use pandas.concat instead.\n",
      "  fidelity_data = fidelity_data.append(df)\n",
      "/Users/ashrit/opt/anaconda3/lib/python3.8/site-packages/netsquid/util/datacollector.py:239: FutureWarning: The frame.append method is deprecated and will be removed from pandas in a future version. Use pandas.concat instead.\n",
      "  self._dataframe = self._dataframe.append(self._data_buffer, ignore_index=True, sort=False)\n",
      "/var/folders/l7/fs0hpyl97bq9j90hp_4t90l80000gn/T/ipykernel_9370/436885066.py:37: FutureWarning: The frame.append method is deprecated and will be removed from pandas in a future version. Use pandas.concat instead.\n",
      "  fidelity_data = fidelity_data.append(df)\n",
      "/Users/ashrit/opt/anaconda3/lib/python3.8/site-packages/netsquid/util/datacollector.py:239: FutureWarning: The frame.append method is deprecated and will be removed from pandas in a future version. Use pandas.concat instead.\n",
      "  self._dataframe = self._dataframe.append(self._data_buffer, ignore_index=True, sort=False)\n",
      "/var/folders/l7/fs0hpyl97bq9j90hp_4t90l80000gn/T/ipykernel_9370/436885066.py:37: FutureWarning: The frame.append method is deprecated and will be removed from pandas in a future version. Use pandas.concat instead.\n",
      "  fidelity_data = fidelity_data.append(df)\n",
      "/Users/ashrit/opt/anaconda3/lib/python3.8/site-packages/netsquid/util/datacollector.py:239: FutureWarning: The frame.append method is deprecated and will be removed from pandas in a future version. Use pandas.concat instead.\n",
      "  self._dataframe = self._dataframe.append(self._data_buffer, ignore_index=True, sort=False)\n",
      "/var/folders/l7/fs0hpyl97bq9j90hp_4t90l80000gn/T/ipykernel_9370/436885066.py:37: FutureWarning: The frame.append method is deprecated and will be removed from pandas in a future version. Use pandas.concat instead.\n",
      "  fidelity_data = fidelity_data.append(df)\n",
      "/Users/ashrit/opt/anaconda3/lib/python3.8/site-packages/netsquid/util/datacollector.py:239: FutureWarning: The frame.append method is deprecated and will be removed from pandas in a future version. Use pandas.concat instead.\n",
      "  self._dataframe = self._dataframe.append(self._data_buffer, ignore_index=True, sort=False)\n",
      "/var/folders/l7/fs0hpyl97bq9j90hp_4t90l80000gn/T/ipykernel_9370/436885066.py:37: FutureWarning: The frame.append method is deprecated and will be removed from pandas in a future version. Use pandas.concat instead.\n",
      "  fidelity_data = fidelity_data.append(df)\n",
      "/Users/ashrit/opt/anaconda3/lib/python3.8/site-packages/netsquid/util/datacollector.py:239: FutureWarning: The frame.append method is deprecated and will be removed from pandas in a future version. Use pandas.concat instead.\n",
      "  self._dataframe = self._dataframe.append(self._data_buffer, ignore_index=True, sort=False)\n",
      "/var/folders/l7/fs0hpyl97bq9j90hp_4t90l80000gn/T/ipykernel_9370/436885066.py:37: FutureWarning: The frame.append method is deprecated and will be removed from pandas in a future version. Use pandas.concat instead.\n",
      "  fidelity_data = fidelity_data.append(df)\n",
      "/Users/ashrit/opt/anaconda3/lib/python3.8/site-packages/netsquid/util/datacollector.py:239: FutureWarning: The frame.append method is deprecated and will be removed from pandas in a future version. Use pandas.concat instead.\n",
      "  self._dataframe = self._dataframe.append(self._data_buffer, ignore_index=True, sort=False)\n",
      "/var/folders/l7/fs0hpyl97bq9j90hp_4t90l80000gn/T/ipykernel_9370/436885066.py:37: FutureWarning: The frame.append method is deprecated and will be removed from pandas in a future version. Use pandas.concat instead.\n",
      "  fidelity_data = fidelity_data.append(df)\n",
      "/Users/ashrit/opt/anaconda3/lib/python3.8/site-packages/netsquid/util/datacollector.py:239: FutureWarning: The frame.append method is deprecated and will be removed from pandas in a future version. Use pandas.concat instead.\n",
      "  self._dataframe = self._dataframe.append(self._data_buffer, ignore_index=True, sort=False)\n",
      "/var/folders/l7/fs0hpyl97bq9j90hp_4t90l80000gn/T/ipykernel_9370/436885066.py:37: FutureWarning: The frame.append method is deprecated and will be removed from pandas in a future version. Use pandas.concat instead.\n",
      "  fidelity_data = fidelity_data.append(df)\n",
      "/Users/ashrit/opt/anaconda3/lib/python3.8/site-packages/netsquid/util/datacollector.py:239: FutureWarning: The frame.append method is deprecated and will be removed from pandas in a future version. Use pandas.concat instead.\n",
      "  self._dataframe = self._dataframe.append(self._data_buffer, ignore_index=True, sort=False)\n",
      "/var/folders/l7/fs0hpyl97bq9j90hp_4t90l80000gn/T/ipykernel_9370/436885066.py:37: FutureWarning: The frame.append method is deprecated and will be removed from pandas in a future version. Use pandas.concat instead.\n",
      "  fidelity_data = fidelity_data.append(df)\n",
      "/Users/ashrit/opt/anaconda3/lib/python3.8/site-packages/netsquid/util/datacollector.py:239: FutureWarning: The frame.append method is deprecated and will be removed from pandas in a future version. Use pandas.concat instead.\n",
      "  self._dataframe = self._dataframe.append(self._data_buffer, ignore_index=True, sort=False)\n",
      "/var/folders/l7/fs0hpyl97bq9j90hp_4t90l80000gn/T/ipykernel_9370/436885066.py:37: FutureWarning: The frame.append method is deprecated and will be removed from pandas in a future version. Use pandas.concat instead.\n",
      "  fidelity_data = fidelity_data.append(df)\n",
      "/Users/ashrit/opt/anaconda3/lib/python3.8/site-packages/netsquid/util/datacollector.py:239: FutureWarning: The frame.append method is deprecated and will be removed from pandas in a future version. Use pandas.concat instead.\n",
      "  self._dataframe = self._dataframe.append(self._data_buffer, ignore_index=True, sort=False)\n",
      "/var/folders/l7/fs0hpyl97bq9j90hp_4t90l80000gn/T/ipykernel_9370/436885066.py:37: FutureWarning: The frame.append method is deprecated and will be removed from pandas in a future version. Use pandas.concat instead.\n",
      "  fidelity_data = fidelity_data.append(df)\n",
      "/Users/ashrit/opt/anaconda3/lib/python3.8/site-packages/netsquid/util/datacollector.py:239: FutureWarning: The frame.append method is deprecated and will be removed from pandas in a future version. Use pandas.concat instead.\n",
      "  self._dataframe = self._dataframe.append(self._data_buffer, ignore_index=True, sort=False)\n",
      "/var/folders/l7/fs0hpyl97bq9j90hp_4t90l80000gn/T/ipykernel_9370/436885066.py:37: FutureWarning: The frame.append method is deprecated and will be removed from pandas in a future version. Use pandas.concat instead.\n",
      "  fidelity_data = fidelity_data.append(df)\n",
      "/Users/ashrit/opt/anaconda3/lib/python3.8/site-packages/netsquid/util/datacollector.py:239: FutureWarning: The frame.append method is deprecated and will be removed from pandas in a future version. Use pandas.concat instead.\n",
      "  self._dataframe = self._dataframe.append(self._data_buffer, ignore_index=True, sort=False)\n",
      "/var/folders/l7/fs0hpyl97bq9j90hp_4t90l80000gn/T/ipykernel_9370/436885066.py:37: FutureWarning: The frame.append method is deprecated and will be removed from pandas in a future version. Use pandas.concat instead.\n",
      "  fidelity_data = fidelity_data.append(df)\n"
     ]
    },
    {
     "name": "stderr",
     "output_type": "stream",
     "text": [
      "/Users/ashrit/opt/anaconda3/lib/python3.8/site-packages/netsquid/util/datacollector.py:239: FutureWarning: The frame.append method is deprecated and will be removed from pandas in a future version. Use pandas.concat instead.\n",
      "  self._dataframe = self._dataframe.append(self._data_buffer, ignore_index=True, sort=False)\n",
      "/var/folders/l7/fs0hpyl97bq9j90hp_4t90l80000gn/T/ipykernel_9370/436885066.py:37: FutureWarning: The frame.append method is deprecated and will be removed from pandas in a future version. Use pandas.concat instead.\n",
      "  fidelity_data = fidelity_data.append(df)\n",
      "/Users/ashrit/opt/anaconda3/lib/python3.8/site-packages/netsquid/util/datacollector.py:239: FutureWarning: The frame.append method is deprecated and will be removed from pandas in a future version. Use pandas.concat instead.\n",
      "  self._dataframe = self._dataframe.append(self._data_buffer, ignore_index=True, sort=False)\n",
      "/var/folders/l7/fs0hpyl97bq9j90hp_4t90l80000gn/T/ipykernel_9370/436885066.py:37: FutureWarning: The frame.append method is deprecated and will be removed from pandas in a future version. Use pandas.concat instead.\n",
      "  fidelity_data = fidelity_data.append(df)\n",
      "/Users/ashrit/opt/anaconda3/lib/python3.8/site-packages/netsquid/util/datacollector.py:239: FutureWarning: The frame.append method is deprecated and will be removed from pandas in a future version. Use pandas.concat instead.\n",
      "  self._dataframe = self._dataframe.append(self._data_buffer, ignore_index=True, sort=False)\n",
      "/var/folders/l7/fs0hpyl97bq9j90hp_4t90l80000gn/T/ipykernel_9370/436885066.py:37: FutureWarning: The frame.append method is deprecated and will be removed from pandas in a future version. Use pandas.concat instead.\n",
      "  fidelity_data = fidelity_data.append(df)\n",
      "/Users/ashrit/opt/anaconda3/lib/python3.8/site-packages/netsquid/util/datacollector.py:239: FutureWarning: The frame.append method is deprecated and will be removed from pandas in a future version. Use pandas.concat instead.\n",
      "  self._dataframe = self._dataframe.append(self._data_buffer, ignore_index=True, sort=False)\n",
      "/var/folders/l7/fs0hpyl97bq9j90hp_4t90l80000gn/T/ipykernel_9370/436885066.py:37: FutureWarning: The frame.append method is deprecated and will be removed from pandas in a future version. Use pandas.concat instead.\n",
      "  fidelity_data = fidelity_data.append(df)\n",
      "/Users/ashrit/opt/anaconda3/lib/python3.8/site-packages/netsquid/util/datacollector.py:239: FutureWarning: The frame.append method is deprecated and will be removed from pandas in a future version. Use pandas.concat instead.\n",
      "  self._dataframe = self._dataframe.append(self._data_buffer, ignore_index=True, sort=False)\n",
      "/var/folders/l7/fs0hpyl97bq9j90hp_4t90l80000gn/T/ipykernel_9370/436885066.py:37: FutureWarning: The frame.append method is deprecated and will be removed from pandas in a future version. Use pandas.concat instead.\n",
      "  fidelity_data = fidelity_data.append(df)\n"
     ]
    },
    {
     "data": {
      "image/png": "[encoded data removed]",
      "text/plain": [
       "<Figure size 432x288 with 1 Axes>"
      ]
     },
     "metadata": {
      "needs_background": "light"
     },
     "output_type": "display_data"
    }
   ],
   "source": [
    "create_plot()"
   ]
  },
  {
   "cell_type": "code",
   "execution_count": null,
   "id": "9e57bd61",
   "metadata": {},
   "outputs": [],
   "source": []
  }
 ],
 "metadata": {
  "kernelspec": {
   "display_name": "Python 3 (ipykernel)",
   "language": "python",
   "name": "python3"
  },
  "language_info": {
   "codemirror_mode": {
    "name": "ipython",
    "version": 3
   },
   "file_extension": ".py",
   "mimetype": "text/x-python",
   "name": "python",
   "nbconvert_exporter": "python",
   "pygments_lexer": "ipython3",
   "version": "3.8.13"
  }
 },
 "nbformat": 4,
 "nbformat_minor": 5
}
