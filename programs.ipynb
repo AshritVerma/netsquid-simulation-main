{
 "cells": [
  {
   "cell_type": "code",
   "execution_count": 1,
   "metadata": {
    "scrolled": false
   },
   "outputs": [],
   "source": [
    "import import_ipynb\n",
    "import numpy as np\n",
    "from netsquid.components import QuantumProgram, INSTR_INIT\n",
    "from netsquid.components.instructions import INSTR_ROT_Z, INSTR_MEASURE, INSTR_EMIT\n",
    "from netsquid.qubits.ketstates import BellIndex"
   ]
  },
  {
   "cell_type": "code",
   "execution_count": 2,
   "metadata": {},
   "outputs": [
    {
     "name": "stdout",
     "output_type": "stream",
     "text": [
      "importing Jupyter notebook from Instructions.ipynb\n"
     ]
    }
   ],
   "source": [
    "from Instructions import IonTrapMSGate, IonTrapMultiQubitRotation"
   ]
  },
  {
   "cell_type": "code",
   "execution_count": 3,
   "metadata": {},
   "outputs": [],
   "source": [
    "ms_instruction = IonTrapMSGate(2, np.pi / 2)"
   ]
  },
  {
   "cell_type": "code",
   "execution_count": 4,
   "metadata": {},
   "outputs": [],
   "source": [
    "class IonTrapSwapProgram(QuantumProgram):\n",
    "    \"\"\"\n",
    "    Internal working\n",
    "    ----------------\n",
    "    A few private attributes:\n",
    "      * _NAME_OUTCOME_CONTROL : str\n",
    "      * _NAME_OUTCOME_TARGET : str\n",
    "      * _OUTCOME_TO_BELL_INDEX : dict with keys (int, int) and values :class:`netsquid.qubits.ketstates.BellIndex`\n",
    "           Indicates how the two measurement outcomes are related to the\n",
    "           state that is measured. Its keys are tuples of the two measurement\n",
    "           outcomes (control, target) and its values is the Bell state index.\n",
    "    \"\"\"\n",
    "    default_num_qubits = 2\n",
    "    _NAME_OUTCOME_CONTROL = \"control-qubit-outcome\"\n",
    "    _NAME_OUTCOME_TARGET = \"target-qubit-outcome\"\n",
    "    _OUTCOME_TO_BELL_INDEX = {(1, 1): BellIndex.PHI_PLUS, (0, 1): BellIndex.PSI_PLUS,\n",
    "                              (1, 0): BellIndex.PSI_MINUS, (0, 0): BellIndex.PHI_MINUS}\n",
    "    keep_measured_qubits = False\n",
    "    def program(self):\n",
    "        q1, q2 = self.get_qubit_indices(2)\n",
    "        self.apply(INSTR_ROT_Z, q1, angle=np.pi / 4)\n",
    "        self.apply(INSTR_ROT_Z, q2, angle=-np.pi / 4)\n",
    "        self.apply(ms_instruction, qubit_indices=[q1, q2])\n",
    "        self.apply(INSTR_MEASURE, q1, output_key=self._NAME_OUTCOME_CONTROL, keep=self.keep_measured_qubits)\n",
    "        self.apply(INSTR_MEASURE, q2, output_key=self._NAME_OUTCOME_TARGET, keep=self.keep_measured_qubits)\n",
    "        yield self.run()\n",
    "        self.output[\"bell_index\"] = self.get_outcome_as_bell_index\n",
    "    @property\n",
    "    def get_outcome_as_bell_index(self):\n",
    "        m_outcome_control = self.output[self._NAME_OUTCOME_CONTROL][0]\n",
    "        m_outcome_target = self.output[self._NAME_OUTCOME_TARGET][0]\n",
    "        return self._OUTCOME_TO_BELL_INDEX[(m_outcome_control, m_outcome_target)]"
   ]
  },
  {
   "cell_type": "code",
   "execution_count": 5,
   "metadata": {},
   "outputs": [],
   "source": [
    "class IonTrapOneQubitHadamard(QuantumProgram):\n",
    "    default_num_qubits = 1\n",
    "    def program(self):\n",
    "        q = self.get_qubit_indices()\n",
    "        self.apply(instruction=INSTR_ROT_Z, qubit_indices=q, angle=np.pi)\n",
    "        self.apply(IonTrapMultiQubitRotation(num_positions=1), qubit_indices=q, phi=np.pi / 2, theta=np.pi / 2)\n",
    "        yield self.run()"
   ]
  },
  {
   "cell_type": "code",
   "execution_count": 6,
   "metadata": {},
   "outputs": [],
   "source": [
    "class EmitProg(QuantumProgram):\n",
    "    default_num_qubits = 2\n",
    "    def program(self):\n",
    "        memory_position, emission_position = self.get_qubit_indices()\n",
    "        self.apply(instruction=INSTR_INIT, qubit_indices=memory_position)\n",
    "        self.apply(instruction=INSTR_EMIT, qubit_indices=[memory_position, emission_position])\n",
    "        yield self.run()"
   ]
  },
  {
   "cell_type": "code",
   "execution_count": 7,
   "metadata": {},
   "outputs": [],
   "source": [
    "def ion_trap_meas_prog(meas_basis):\n",
    "    if meas_basis != \"X\" and meas_basis != \"Z\":\n",
    "        raise ValueError(\"Measurement basis should be either X or Z\")\n",
    "    prog = QuantumProgram(num_qubits=1, parallel=False)\n",
    "    q = prog.get_qubit_indices()\n",
    "    if meas_basis == \"X\":\n",
    "        prog.apply(instruction=INSTR_ROT_Z, qubit_indices=q, angle=np.pi)\n",
    "        prog.apply(IonTrapMultiQubitRotation(num_positions=1), qubit_indices=q, phi=np.pi / 2,\n",
    "                   theta=np.pi / 2)\n",
    "    prog.apply(INSTR_MEASURE, qubit_indices=q, output_key=\"outcome\")\n",
    "    return prog"
   ]
  },
  {
   "cell_type": "code",
   "execution_count": 8,
   "metadata": {},
   "outputs": [],
   "source": [
    "ion_trap_meas_z = ion_trap_meas_prog(\"Z\")\n",
    "ion_trap_meas_x = ion_trap_meas_prog(\"X\")\n",
    "emit_prog = EmitProg()\n",
    "ion_trap_one_qubit_hadamard = IonTrapOneQubitHadamard()\n",
    "ion_trap_swap_program = IonTrapSwapProgram(num_qubits=2)"
   ]
  },
  {
   "cell_type": "code",
   "execution_count": 9,
   "metadata": {},
   "outputs": [
    {
     "name": "stdout",
     "output_type": "stream",
     "text": [
      "<netsquid.components.qprogram.QuantumProgram object at 0x7ff71ae7e668>\n"
     ]
    }
   ],
   "source": [
    "print(ion_trap_meas_z)"
   ]
  },
  {
   "cell_type": "code",
   "execution_count": 10,
   "metadata": {},
   "outputs": [
    {
     "name": "stdout",
     "output_type": "stream",
     "text": [
      "<netsquid.components.qprogram.QuantumProgram object at 0x7ff71ae7e630>\n"
     ]
    }
   ],
   "source": [
    "print(ion_trap_meas_x)"
   ]
  },
  {
   "cell_type": "code",
   "execution_count": 12,
   "metadata": {},
   "outputs": [
    {
     "name": "stdout",
     "output_type": "stream",
     "text": [
      "<__main__.EmitProg object at 0x7ff71ae7e940>\n"
     ]
    }
   ],
   "source": [
    "print(emit_prog)"
   ]
  },
  {
   "cell_type": "code",
   "execution_count": 13,
   "metadata": {},
   "outputs": [
    {
     "name": "stdout",
     "output_type": "stream",
     "text": [
      "<__main__.IonTrapOneQubitHadamard object at 0x7ff71ae7e978>\n"
     ]
    }
   ],
   "source": [
    "print(ion_trap_one_qubit_hadamard)"
   ]
  },
  {
   "cell_type": "code",
   "execution_count": 14,
   "metadata": {},
   "outputs": [
    {
     "name": "stdout",
     "output_type": "stream",
     "text": [
      "<__main__.IonTrapSwapProgram object at 0x7ff71ae7ecf8>\n"
     ]
    }
   ],
   "source": [
    "print(ion_trap_swap_program)"
   ]
  },
  {
   "cell_type": "code",
   "execution_count": null,
   "metadata": {},
   "outputs": [],
   "source": []
  }
 ],
 "metadata": {
  "kernelspec": {
   "display_name": "Python 3",
   "language": "python",
   "name": "python3"
  },
  "language_info": {
   "codemirror_mode": {
    "name": "ipython",
    "version": 3
   },
   "file_extension": ".py",
   "mimetype": "text/x-python",
   "name": "python",
   "nbconvert_exporter": "python",
   "pygments_lexer": "ipython3",
   "version": "3.6.9"
  }
 },
 "nbformat": 4,
 "nbformat_minor": 2
}
