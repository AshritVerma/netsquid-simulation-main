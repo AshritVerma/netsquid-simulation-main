{
 "cells": [
  {
   "cell_type": "code",
   "execution_count": 1,
   "id": "e4954aec",
   "metadata": {},
   "outputs": [],
   "source": [
    "import netsquid as ns"
   ]
  },
  {
   "cell_type": "markdown",
   "id": "baa65348",
   "metadata": {},
   "source": [
    "## Channels"
   ]
  },
  {
   "cell_type": "code",
   "execution_count": 3,
   "id": "13f6a0d1",
   "metadata": {},
   "outputs": [],
   "source": [
    "from netsquid.components import Channel, QuantumChannel\n",
    "ns.sim_reset()\n",
    "channel = Channel(name = \"MyChannel\")"
   ]
  },
  {
   "cell_type": "code",
   "execution_count": 4,
   "id": "19e37a3b",
   "metadata": {},
   "outputs": [
    {
     "data": {
      "text/plain": [
       "SimStats()"
      ]
     },
     "execution_count": 4,
     "metadata": {},
     "output_type": "execute_result"
    }
   ],
   "source": [
    "# .send() methoed to send in one direction from input port to output port at other end\n",
    "channel.send(\"hello world\")\n",
    "ns.sim_run()"
   ]
  },
  {
   "cell_type": "markdown",
   "id": "52021460",
   "metadata": {},
   "source": [
    "since channels subclass of Entity and schedule events to trasmit message,\n",
    "must run the simular for the message to arrive\n",
    ".receive() method retruns messages on the ouptut, as well as the time messages have been travelling thorugh teh channel<br>\n",
    "since did not specify transmission delay model for channel, ns defaults to no delay (instant retrieval of message)"
   ]
  },
  {
   "cell_type": "code",
   "execution_count": 5,
   "id": "e762a2ed",
   "metadata": {},
   "outputs": [
    {
     "name": "stdout",
     "output_type": "stream",
     "text": [
      "['hello world']\n",
      "0.0\n"
     ]
    }
   ],
   "source": [
    "items, delay = channel.receive()\n",
    "print(items)\n",
    "print(delay)"
   ]
  },
  {
   "cell_type": "markdown",
   "id": "bf8bcae6",
   "metadata": {},
   "source": [
    "ways of adding delay to channel:\n",
    "1. initalize channel with fixed delay\n",
    "2. specify DelayModel, a subclass of Model base class\n",
    "    - component's models are stored in its models map and indexed with the appropriate key (so possible to give distrionary with models at initalization if preferred)\n",
    "    - ex: Gaussian delay model (samples from normal distribution)\n",
    "    - ex: FibreDelayModel models delay present in fibre optic cables"
   ]
  },
  {
   "cell_type": "code",
   "execution_count": 6,
   "id": "4d428592",
   "metadata": {},
   "outputs": [
    {
     "data": {
      "text/plain": [
       "Channel(name='DelayChannel')"
      ]
     },
     "execution_count": 6,
     "metadata": {},
     "output_type": "execute_result"
    }
   ],
   "source": [
    "# fixed delay\n",
    "Channel(name=\"DelayChannel\", delay=10)"
   ]
  },
  {
   "cell_type": "code",
   "execution_count": 7,
   "id": "2e77b9a9",
   "metadata": {},
   "outputs": [
    {
     "data": {
      "text/plain": [
       "(['hello world!'], 10.0)"
      ]
     },
     "execution_count": 7,
     "metadata": {},
     "output_type": "execute_result"
    }
   ],
   "source": [
    "# predefined fixed delay model\n",
    "from netsquid.components.models.delaymodels import FixedDelayModel\n",
    "fixed_delaymodel = FixedDelayModel(delay = 10)\n",
    "\n",
    "channel.models['delay_model'] = fixed_delaymodel\n",
    "channel.send(\"hello world!\")\n",
    "ns.sim_run()\n",
    "channel.receive()"
   ]
  },
  {
   "cell_type": "code",
   "execution_count": 8,
   "id": "57b15ba7",
   "metadata": {},
   "outputs": [],
   "source": [
    "# Gaussion delay model\n",
    "from netsquid.components.models.delaymodels import GaussianDelayModel\n",
    "gaussian_delaymodel = GaussianDelayModel(delay_mean=5, delay_std=0.1)"
   ]
  },
  {
   "cell_type": "code",
   "execution_count": 9,
   "id": "01d33e54",
   "metadata": {},
   "outputs": [
    {
     "name": "stdout",
     "output_type": "stream",
     "text": [
      "Speed of light in fibre: 200000.0 [km/s]\n"
     ]
    },
    {
     "data": {
      "text/plain": [
       "['length']"
      ]
     },
     "execution_count": 9,
     "metadata": {},
     "output_type": "execute_result"
    }
   ],
   "source": [
    "#fibe optic model\n",
    "Channel(\"TutorialChannel\", length=10)\n",
    "channel.properties['length'] = 10\n",
    "from netsquid.components.models.delaymodels import FibreDelayModel\n",
    "delay_model = FibreDelayModel()\n",
    "print(f\"Speed of light in fibre: {delay_model.properties['c']:.1f} [km/s]\")\n",
    "delay_model.required_properties"
   ]
  },
  {
   "cell_type": "markdown",
   "id": "e321a767",
   "metadata": {},
   "source": [
    "not only want to send classical messages, also want to naturally transmit qubits (Qubit), so need our channel to mdoel transmission delay + quantum noise (attenuation) and the channel's physical characteristics<br>\n",
    "quantum channel (QuantumChannel) intended for transmission of qubits<br>\n",
    "in additon to transmission delay it also models (QuantumErrorModel):\n",
    "- quantum_noise_model: models noise experienced by qubits during their transmission; applied just before it is received\n",
    "- quantum_loss_model: determines whether the transmitted qubits are lost; applied just before it is transmitted\n",
    "<br>"
   ]
  },
  {
   "cell_type": "code",
   "execution_count": 10,
   "id": "8d78347b",
   "metadata": {},
   "outputs": [],
   "source": [
    "from netsquid.components.models.qerrormodels import FibreLossModel\n",
    "from netsquid.components.qchannel import QuantumChannel\n",
    "loss_model = FibreLossModel(p_loss_init=0.83, p_loss_length = 0.2)\n",
    "qchannel = QuantumChannel(\"MyQChannel\", length=20, models={'quantum_loss_model': loss_model})"
   ]
  },
  {
   "cell_type": "code",
   "execution_count": null,
   "id": "67a7d1db",
   "metadata": {},
   "outputs": [],
   "source": []
  },
  {
   "cell_type": "markdown",
   "id": "eb03fb9c",
   "metadata": {},
   "source": [
    "## Quantum Memory"
   ]
  },
  {
   "cell_type": "code",
   "execution_count": 11,
   "id": "3f00bb60",
   "metadata": {},
   "outputs": [],
   "source": [
    "# for depolarize noise model\n",
    "from netsquid.components import QuantumMemory\n",
    "qmem = QuantumMemory(name=\"MyMemory\", num_positions =1)\n",
    "\n",
    "from netsquid.components.models.qerrormodels import DepolarNoiseModel\n",
    "depolar_noise = DepolarNoiseModel(depolar_rate=1e6) #depolar rate in Hz"
   ]
  },
  {
   "cell_type": "code",
   "execution_count": 12,
   "id": "280d1182",
   "metadata": {},
   "outputs": [],
   "source": [
    "#quantum memory can have muiltiple memory positions, each assigned its own error model\n",
    "qmem = QuantumMemory(\"DepolarMemory\", num_positions=2, memory_noise_models=[depolar_noise, depolar_noise])\n",
    "for mem_pos in qmem.mem_positions:\n",
    "    mem_pos.models['noise_model'] = depolar_noise"
   ]
  },
  {
   "cell_type": "code",
   "execution_count": 13,
   "id": "56562b71",
   "metadata": {},
   "outputs": [
    {
     "data": {
      "text/plain": [
       "[Qubit('QS#0-0')]"
      ]
     },
     "execution_count": 13,
     "metadata": {},
     "output_type": "execute_result"
    }
   ],
   "source": [
    "# .put() method inserts a qubit into a quantum memory\n",
    "# .pop() ethod to get qubit out from memory\n",
    "# .peek() if want to verify that qubit exists at that memory position\n",
    "\n",
    "from netsquid.qubits.qubitapi import create_qubits\n",
    "qubits = create_qubits(1)\n",
    "qmem.put(qubits)\n",
    "qmem.peek(0)"
   ]
  },
  {
   "cell_type": "code",
   "execution_count": 14,
   "id": "b27cf9c0",
   "metadata": {},
   "outputs": [
    {
     "data": {
      "text/plain": [
       "[Qubit('QS#0-0')]"
      ]
     },
     "execution_count": 14,
     "metadata": {},
     "output_type": "execute_result"
    }
   ],
   "source": [
    "qmem.peek(0)"
   ]
  },
  {
   "cell_type": "code",
   "execution_count": 15,
   "id": "8fb6eaa5",
   "metadata": {},
   "outputs": [
    {
     "data": {
      "text/plain": [
       "[Qubit('QS#0-0')]"
      ]
     },
     "execution_count": 15,
     "metadata": {},
     "output_type": "execute_result"
    }
   ],
   "source": [
    "qmem.pop(positions=0)"
   ]
  },
  {
   "cell_type": "code",
   "execution_count": 16,
   "id": "adf4b1df",
   "metadata": {},
   "outputs": [
    {
     "data": {
      "text/plain": [
       "[None]"
      ]
     },
     "execution_count": 16,
     "metadata": {},
     "output_type": "execute_result"
    }
   ],
   "source": [
    "qmem.peek(0)"
   ]
  },
  {
   "cell_type": "code",
   "execution_count": 17,
   "id": "f3a3ce7d",
   "metadata": {},
   "outputs": [],
   "source": [
    "# operating direclty on qubits in quantum memory\n",
    "import netsquid.qubits.operators as ops\n",
    "qmem.put(qubits)\n",
    "qmem.operate(ops.X, positions=[0])"
   ]
  },
  {
   "cell_type": "code",
   "execution_count": 18,
   "id": "a19c1929",
   "metadata": {},
   "outputs": [
    {
     "data": {
      "text/plain": [
       "([1], [1.0])"
      ]
     },
     "execution_count": 18,
     "metadata": {},
     "output_type": "execute_result"
    }
   ],
   "source": [
    "# quantum memory can also measure qubits\n",
    "qmem.measure(positions=[0])"
   ]
  },
  {
   "cell_type": "code",
   "execution_count": 19,
   "id": "b8d0bd7a",
   "metadata": {},
   "outputs": [
    {
     "data": {
      "text/plain": [
       "([1], [0.4999999999999998])"
      ]
     },
     "execution_count": 19,
     "metadata": {},
     "output_type": "execute_result"
    }
   ],
   "source": [
    "# changing measurement basis, thus inherently also the probability of measuring that quibt\n",
    "qmem.measure(positions=[0], observable=ops.X)"
   ]
  },
  {
   "cell_type": "code",
   "execution_count": null,
   "id": "c32af188",
   "metadata": {},
   "outputs": [],
   "source": []
  },
  {
   "cell_type": "markdown",
   "id": "97c35df1",
   "metadata": {},
   "source": [
    "## Ports"
   ]
  },
  {
   "attachments": {
    "image.png": {
     "image/png": "[encoded data removed]"
    }
   },
   "cell_type": "markdown",
   "id": "249f4999",
   "metadata": {},
   "source": [
    "![image.png](attachment:image.png)"
   ]
  },
  {
   "attachments": {
    "image.png": {
     "image/png": "[encoded data removed]"
    }
   },
   "cell_type": "markdown",
   "id": "ce40bdd4",
   "metadata": {},
   "source": [
    "![image.png](attachment:image.png)"
   ]
  },
  {
   "cell_type": "code",
   "execution_count": 20,
   "id": "0f352430",
   "metadata": {},
   "outputs": [
    {
     "data": {
      "text/plain": [
       "Message(items=['hello'], header=None, ch_delta_time=3.0)"
      ]
     },
     "execution_count": 20,
     "metadata": {},
     "output_type": "execute_result"
    }
   ],
   "source": [
    "# send() and receive() from Channel class conveneiven method that make use of send and rev ports on a channel\n",
    "# thus also possible to do:\n",
    "channel = Channel(\"TutorialChannel\", delay=3)\n",
    "channel.ports['send'].tx_input(\"hello\")\n",
    "ns.sim_run()\n",
    "channel.ports['recv'].rx_output()"
   ]
  },
  {
   "cell_type": "markdown",
   "id": "d602bcf4",
   "metadata": {},
   "source": [
    "alternative to put() is tos end a message containing a list of qubits to the qin port of the quantum meomry, or\n",
    "a message witha singel qubit to a specific qinX prt, where X is the index of a specific memory postion"
   ]
  },
  {
   "cell_type": "code",
   "execution_count": 21,
   "id": "52664abe",
   "metadata": {},
   "outputs": [],
   "source": [
    "channel.ports['recv'].connect(qmem.ports['qin0'])"
   ]
  },
  {
   "cell_type": "code",
   "execution_count": 22,
   "id": "9fd8f427",
   "metadata": {},
   "outputs": [
    {
     "name": "stdout",
     "output_type": "stream",
     "text": [
      "Qubit('QS#1-0')\n"
     ]
    },
    {
     "data": {
      "text/plain": [
       "[Qubit('QS#1-0')]"
      ]
     },
     "execution_count": 22,
     "metadata": {},
     "output_type": "execute_result"
    }
   ],
   "source": [
    "qubit, = create_qubits(1)\n",
    "print(qubit)\n",
    "channel.send(qubit)\n",
    "ns.sim_run()\n",
    "qmem.peek(0)"
   ]
  },
  {
   "cell_type": "code",
   "execution_count": null,
   "id": "2e05cab0",
   "metadata": {},
   "outputs": [],
   "source": []
  },
  {
   "cell_type": "markdown",
   "id": "55620d69",
   "metadata": {},
   "source": [
    "## Ping Pong using components and ports"
   ]
  },
  {
   "cell_type": "code",
   "execution_count": 23,
   "id": "34673bd7",
   "metadata": {},
   "outputs": [],
   "source": [
    "ns.sim_reset()"
   ]
  },
  {
   "cell_type": "code",
   "execution_count": 24,
   "id": "d3ee286f",
   "metadata": {},
   "outputs": [],
   "source": [
    "from netsquid.components.component import Port\n",
    "import pydynaa\n",
    "\n",
    "class PingEntity(pydynaa.Entity):\n",
    "    length = 2e-3  # channel length [km]\n",
    "\n",
    "    def __init__(self):\n",
    "        # Create a memory and a quantum channel:\n",
    "        self.qmemory = QuantumMemory(\"PingMemory\", num_positions=1)\n",
    "        self.qchannel = QuantumChannel(\"PingChannel\", length=self.length,\n",
    "                                       models={\"delay_model\": FibreDelayModel()})\n",
    "        # link output from qmemory (pop) to input of ping channel:\n",
    "        self.qmemory.ports[\"qout\"].connect(self.qchannel.ports[\"send\"])\n",
    "        # Setup callback function to handle input on quantum memory port \"qin0\":\n",
    "        self._wait(pydynaa.EventHandler(self._handle_input_qubit),\n",
    "                   entity=self.qmemory.ports[\"qin0\"], event_type=Port.evtype_input)\n",
    "        self.qmemory.ports[\"qin0\"].notify_all_input = True\n",
    "\n",
    "    def start(self, qubit):\n",
    "        # Start the game by having ping player send the first qubit (ping)\n",
    "        self.qchannel.send(qubit)\n",
    "\n",
    "    def wait_for_pong(self, other_entity):\n",
    "        # Setup this entity to pass incoming qubits to its quantum memory\n",
    "        self.qmemory.ports[\"qin0\"].connect(other_entity.qchannel.ports[\"recv\"])\n",
    "\n",
    "    def _handle_input_qubit(self, event):\n",
    "        # Callback function called by the pong handler when pong event is triggered\n",
    "        [m], [prob] = self.qmemory.measure(positions=[0], observable=ns.Z)\n",
    "        labels_z = (\"|0>\", \"|1>\")\n",
    "        print(f\"{ns.sim_time():.1f}: Pong event! PingEntity measured \"\n",
    "              f\"{labels_z[m]} with probability {prob:.2f}\")\n",
    "        self.qmemory.pop(positions=[0])\n",
    "                    \n",
    "class PongEntity(pydynaa.Entity):\n",
    "    length = 2e-3  # channel length [km]\n",
    "\n",
    "    def __init__(self):\n",
    "        # Create a memory and a quantum channel:\n",
    "        self.qmemory = QuantumMemory(\"PongMemory\", num_positions=1)\n",
    "        self.qchannel = QuantumChannel(\"PingChannel\", length=self.length,\n",
    "                                       models={\"delay_model\": FibreDelayModel()})\n",
    "        # link output from qmemory (pop) to input of ping channel:\n",
    "        self.qmemory.ports[\"qout\"].connect(self.qchannel.ports[\"send\"])\n",
    "        # Setup callback function to handle input on quantum memory:\n",
    "        self._wait(pydynaa.EventHandler(self._handle_input_qubit),\n",
    "                   entity=self.qmemory.ports[\"qin0\"], event_type=Port.evtype_input)\n",
    "        self.qmemory.ports[\"qin0\"].notify_all_input = True\n",
    "\n",
    "    def wait_for_ping(self, other_entity):\n",
    "        # Setup this entity to pass incoming qubits to its quantum memory\n",
    "        self.qmemory.ports[\"qin0\"].connect(other_entity.qchannel.ports[\"recv\"])\n",
    "\n",
    "    def _handle_input_qubit(self, event):\n",
    "        # Callback function called by the pong handler when pong event is triggered\n",
    "        [m], [prob] = self.qmemory.measure(positions=[0], observable=ns.X)\n",
    "        labels_x = (\"|+>\", \"|->\")\n",
    "        print(f\"{ns.sim_time():.1f}: Ping event! PongEntity measured \"\n",
    "              f\"{labels_x[m]} with probability {prob:.2f}\")\n",
    "        self.qmemory.pop(positions=[0])"
   ]
  },
  {
   "cell_type": "code",
   "execution_count": 25,
   "id": "40c1ec60",
   "metadata": {},
   "outputs": [
    {
     "name": "stdout",
     "output_type": "stream",
     "text": [
      "10.0: Ping event! PongEntity measured |+> with probability 0.50\n",
      "20.0: Pong event! PingEntity measured |1> with probability 0.50\n",
      "30.0: Ping event! PongEntity measured |-> with probability 0.50\n",
      "40.0: Pong event! PingEntity measured |1> with probability 0.50\n",
      "50.0: Ping event! PongEntity measured |+> with probability 0.50\n",
      "60.0: Pong event! PingEntity measured |0> with probability 0.50\n",
      "70.0: Ping event! PongEntity measured |+> with probability 0.50\n",
      "80.0: Pong event! PingEntity measured |1> with probability 0.50\n",
      "90.0: Ping event! PongEntity measured |-> with probability 0.50\n"
     ]
    }
   ],
   "source": [
    "ns.sim_reset()\n",
    "ping = PingEntity()\n",
    "pong = PongEntity()\n",
    "ping.wait_for_pong(pong)\n",
    "pong.wait_for_ping(ping)\n",
    "#create qubit and instruct ping entity to start\n",
    "qubit, = ns.qubits.create_qubits(1)\n",
    "ping.start(qubit)\n",
    "ns.set_random_state(seed=42)\n",
    "stats = ns.sim_run(91)"
   ]
  },
  {
   "cell_type": "code",
   "execution_count": null,
   "id": "9733161f",
   "metadata": {},
   "outputs": [],
   "source": []
  },
  {
   "cell_type": "markdown",
   "id": "345a7179",
   "metadata": {},
   "source": [
    "## Quantum teleportation using components"
   ]
  },
  {
   "cell_type": "code",
   "execution_count": 26,
   "id": "93fd6744",
   "metadata": {},
   "outputs": [],
   "source": [
    "ns.set_qstate_formalism(ns.QFormalism.DM)\n",
    "ns.sim_reset()"
   ]
  },
  {
   "cell_type": "code",
   "execution_count": 27,
   "id": "97099ec0",
   "metadata": {},
   "outputs": [],
   "source": [
    "class Alice(pydynaa.Entity):\n",
    "    def __init__(self, teleport_state, cchannel_send_port):\n",
    "        self.teleport_state = teleport_state\n",
    "        self.cchannel_send_port = cchannel_send_port\n",
    "        self.qmemory = QuantumMemory(\"AliceMemory\", num_positions=2)\n",
    "        self._wait(pydynaa.EventHandler(self._handle_input_qubit),\n",
    "                   entity=self.qmemory.ports[\"qin1\"], event_type=Port.evtype_input)\n",
    "        self.qmemory.ports[\"qin1\"].notify_all_input = True\n",
    "\n",
    "    def _handle_input_qubit(self, event):\n",
    "        # Callback function that does teleportation and\n",
    "        # schedules a corrections ready event\n",
    "        q0, = ns.qubits.create_qubits(1, no_state=True)\n",
    "        ns.qubits.assign_qstate([q0], self.teleport_state)\n",
    "        self.qmemory.put([q0], positions=[0])\n",
    "        self.qmemory.operate(ns.CNOT, positions=[0, 1])\n",
    "        self.qmemory.operate(ns.H, positions=[0])\n",
    "        m0, m1 = self.qmemory.measure(positions=[0, 1], observable=ns.Z,\n",
    "                                      discard=True)[0]\n",
    "        self.cchannel_send_port.tx_input([m0, m1])\n",
    "        print(f\"{ns.sim_time():.1f}: Alice received entangled qubit, \"\n",
    "              f\"measured qubits & sending corrections\")\n",
    "\n",
    "class Bob(pydynaa.Entity):\n",
    "    depolar_rate = 1e7  # depolarization rate of waiting qubits [Hz]\n",
    "\n",
    "    def __init__(self, cchannel_recv_port):\n",
    "        noise_model = DepolarNoiseModel(depolar_rate=self.depolar_rate)\n",
    "        self.qmemory = QuantumMemory(\"BobMemory\", num_positions=1,\n",
    "                                     memory_noise_models=[noise_model])\n",
    "        cchannel_recv_port.bind_output_handler(self._handle_corrections)\n",
    "\n",
    "    def _handle_corrections(self, message):\n",
    "        # Callback function that handles messages from both Alice and Charlie\n",
    "        m0, m1 = message.items\n",
    "        if m1:\n",
    "            self.qmemory.operate(ns.X, positions=[0])\n",
    "        if m0:\n",
    "            self.qmemory.operate(ns.Z, positions=[0])\n",
    "        qubit = self.qmemory.pop(positions=[0])\n",
    "        fidelity = ns.qubits.fidelity(qubit, ns.y0, squared=True)\n",
    "        print(f\"{ns.sim_time():.1f}: Bob received entangled qubit and corrections!\"\n",
    "              f\" Fidelity = {fidelity:.3f}\")"
   ]
  },
  {
   "cell_type": "markdown",
   "id": "ac47c60b",
   "metadata": {},
   "source": [
    "can automate Charlie using component of QSource, which will be connected to Alice and Bob using quantum channels\n",
    "<br>\n",
    "Quantum soruce any componetsn that can generate one or more qubits in speicifc or random sampled quantum state\n",
    "<br>\n",
    "Statesampler initialised with a list of states and a list of matching probabiliteis\n",
    "<br>"
   ]
  },
  {
   "cell_type": "markdown",
   "id": "fc46bf80",
   "metadata": {},
   "source": [
    "sample() method used to get a random state form this list.\n",
    "<br>\n",
    "we always want entangled bell state |B<sub>00</sub>>, which can be represented as b00 in netsquid"
   ]
  },
  {
   "cell_type": "code",
   "execution_count": 28,
   "id": "89965ca6",
   "metadata": {},
   "outputs": [],
   "source": [
    "from netsquid.qubits.state_sampler import StateSampler\n",
    "import netsquid.qubits.ketstates as ks\n",
    "state_sampler = StateSampler([ks.b00], [1.0])"
   ]
  },
  {
   "cell_type": "code",
   "execution_count": 29,
   "id": "9c5bce99",
   "metadata": {},
   "outputs": [],
   "source": [
    "#since want to have two genreated qubits go in different directions, must specify two output ports to quantum soruce consturcotr\n",
    "from netsquid.components.qsource import QSource, SourceStatus\n",
    "charlie_source = QSource(\"Charlie\", state_sampler, frequency=100, num_ports =2, timing_model=FixedDelayModel(delay=50), status=SourceStatus.INTERNAL)"
   ]
  },
  {
   "cell_type": "markdown",
   "id": "49014cd2",
   "metadata": {},
   "source": [
    "The quantum source can be in one of three modes specified by the SourceStatus enumerator: OFF (the default), INTERNAL, and EXTERNAL. In the internal mode the source operates using its internal clock component (Clock), which can be initialised using the frequency or timing_model parameters. In the external mode the source waits to be externally triggered by receiving any message on its trigger port. We can also call trigger() manually to emulate a trigger message arriving on the port. In the example above we have chosen to use the internal clock with a delay of 50 ns (frequency of 20 GHz)."
   ]
  },
  {
   "cell_type": "code",
   "execution_count": 30,
   "id": "f55fb4c2",
   "metadata": {},
   "outputs": [],
   "source": [
    "def setup_network(alice,bob,qsource,length=4e-3):\n",
    "    qchannel_c2a = QuantumChannel(\"Charlie->Alice\", length=length/2, models={\"delay_model\": FibreDelayModel()})\n",
    "    qchannel_c2b = QuantumChannel(\"Charlie->Bob\", legnth=length/2, models={\"delay_model\": FibreDelayModel()})\n",
    "    qsource.ports['qout0'].connect(qchannel_c2a.ports['send'])\n",
    "    qsource.ports['qout1'].connect(qchannel_c2b.ports['send'])\n",
    "    alice.qmemory.ports['qin1'].connect(qchannel_c2a.ports['recv'])\n",
    "    bob.qmemory.ports['qin0'].connect(qchannel_c2b.ports['recv'])"
   ]
  },
  {
   "cell_type": "code",
   "execution_count": 31,
   "id": "22f78834",
   "metadata": {},
   "outputs": [
    {
     "name": "stdout",
     "output_type": "stream",
     "text": [
      "10.0: Alice received entangled qubit, measured qubits & sending corrections\n",
      "10.0: Bob received entangled qubit and corrections! Fidelity = 0.952\n",
      "60.0: Alice received entangled qubit, measured qubits & sending corrections\n",
      "60.0: Bob received entangled qubit and corrections! Fidelity = 0.952\n",
      "110.0: Alice received entangled qubit, measured qubits & sending corrections\n",
      "110.0: Bob received entangled qubit and corrections! Fidelity = 0.952\n",
      "160.0: Alice received entangled qubit, measured qubits & sending corrections\n",
      "160.0: Bob received entangled qubit and corrections! Fidelity = 0.952\n"
     ]
    }
   ],
   "source": [
    "# create Alice and Bob entties and connect classically togehtr\n",
    "from netsquid.components import ClassicalChannel\n",
    "cchannel = ClassicalChannel(\"CChannel\", length=4e-3, models={\"delay_mode\": FibreDelayModel()})\n",
    "alice = Alice(teleport_state=ns.y0, cchannel_send_port=cchannel.ports[\"send\"])\n",
    "bob = Bob(cchannel_recv_port=cchannel.ports[\"recv\"])\n",
    "setup_network(alice,bob,charlie_source)\n",
    "stats = ns.sim_run(end_time=200)"
   ]
  },
  {
   "cell_type": "markdown",
   "id": "c4502410",
   "metadata": {},
   "source": [
    "main advantage of using components than what we did before, is that noise is automatically handled by quantum memories"
   ]
  },
  {
   "cell_type": "code",
   "execution_count": null,
   "id": "ef5d1cd5",
   "metadata": {},
   "outputs": [],
   "source": []
  }
 ],
 "metadata": {
  "kernelspec": {
   "display_name": "Python 3",
   "language": "python",
   "name": "python3"
  },
  "language_info": {
   "codemirror_mode": {
    "name": "ipython",
    "version": 3
   },
   "file_extension": ".py",
   "mimetype": "text/x-python",
   "name": "python",
   "nbconvert_exporter": "python",
   "pygments_lexer": "ipython3",
   "version": "3.6.9"
  }
 },
 "nbformat": 4,
 "nbformat_minor": 5
}
