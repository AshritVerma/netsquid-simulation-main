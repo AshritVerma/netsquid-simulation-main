{
 "cells": [
  {
   "cell_type": "code",
   "execution_count": 1,
   "id": "c722a6b0",
   "metadata": {},
   "outputs": [],
   "source": [
    "import netsquid as ns"
   ]
  },
  {
   "cell_type": "markdown",
   "id": "c68fd038",
   "metadata": {},
   "source": [
    "## Qubits"
   ]
  },
  {
   "cell_type": "code",
   "execution_count": 2,
   "id": "889ee0f2",
   "metadata": {},
   "outputs": [
    {
     "data": {
      "text/plain": [
       "array([[1.+0.j, 0.+0.j],\n",
       "       [0.+0.j, 0.+0.j]])"
      ]
     },
     "execution_count": 2,
     "metadata": {},
     "output_type": "execute_result"
    }
   ],
   "source": [
    "qubits = ns.qubits.create_qubits(1)\n",
    "qubits\n",
    "qubit = qubits[0]\n",
    "# To check the state is |0> we check its density matrix using reduced_dm():\n",
    "ns.qubits.reduced_dm(qubit)"
   ]
  },
  {
   "cell_type": "code",
   "execution_count": 3,
   "id": "b898e2fa",
   "metadata": {},
   "outputs": [
    {
     "data": {
      "text/plain": [
       "array([[0.+0.j, 0.+0.j],\n",
       "       [0.+0.j, 1.+0.j]])"
      ]
     },
     "execution_count": 3,
     "metadata": {},
     "output_type": "execute_result"
    }
   ],
   "source": [
    "# transform qubit state from 0 to 1 using X operator\n",
    "ns.qubits.operate(qubit, ns.X)\n",
    "ns.qubits.reduced_dm(qubit)"
   ]
  },
  {
   "cell_type": "code",
   "execution_count": 5,
   "id": "0417b223",
   "metadata": {},
   "outputs": [
    {
     "name": "stdout",
     "output_type": "stream",
     "text": [
      "Measured |1> with probability 1.0\n"
     ]
    }
   ],
   "source": [
    "# measure using standard basis (Z)\n",
    "measurement_result, prob = ns.qubits.measure(qubit)\n",
    "if measurement_result == 0:\n",
    "    state = \"|0>\"\n",
    "else:\n",
    "    state = \"|1>\"\n",
    "print(f\"Measured {state} with probability {prob:.1f}\")"
   ]
  },
  {
   "cell_type": "code",
   "execution_count": 9,
   "id": "28330847",
   "metadata": {},
   "outputs": [
    {
     "name": "stdout",
     "output_type": "stream",
     "text": [
      "Measured |+> with probability 1.0\n"
     ]
    },
    {
     "data": {
      "text/plain": [
       "array([[0.5+0.j, 0.5+0.j],\n",
       "       [0.5+0.j, 0.5+0.j]])"
      ]
     },
     "execution_count": 9,
     "metadata": {},
     "output_type": "execute_result"
    }
   ],
   "source": [
    "# measure using Hadamard basis (X) to random outcome\n",
    "measurement_result, prob = ns.qubits.measure(qubit, observable=ns.X)\n",
    "if measurement_result == 0:\n",
    "    state = \"|+>\"\n",
    "else:\n",
    "    state = \"|->\"\n",
    "print(f\"Measured {state} with probability {prob:.1f}\")\n",
    "ns.qubits.reduced_dm(qubit)"
   ]
  },
  {
   "cell_type": "markdown",
   "id": "fc298019",
   "metadata": {},
   "source": [
    "## Simulation Engine"
   ]
  },
  {
   "cell_type": "markdown",
   "id": "72fefc3b",
   "metadata": {},
   "source": [
    "#### to track time evolution of qubit quantum states and account for communication and processing delays in a network"
   ]
  },
  {
   "cell_type": "markdown",
   "id": "70d05e1b",
   "metadata": {},
   "source": [
    "## Components"
   ]
  },
  {
   "cell_type": "code",
   "execution_count": 10,
   "id": "d9a05b0a",
   "metadata": {},
   "outputs": [],
   "source": [
    "# create two remote nodes\n",
    "from netsquid.nodes import Node\n",
    "node_ping = Node(name=\"Ping\")\n",
    "node_pong = Node(name=\"Pong\")"
   ]
  },
  {
   "cell_type": "code",
   "execution_count": 11,
   "id": "fa5f593d",
   "metadata": {},
   "outputs": [],
   "source": [
    "# create transmission delay model that depeends on lenth of each channel\n",
    "# avg qubit speed = c/2, with SD = .05\n",
    "from netsquid.components.models import DelayModel\n",
    "\n",
    "class PingPongDelayModel(DelayModel):\n",
    "    def __init__(self, speed_of_light_fraction=0.5, standard_deviation=0.05):\n",
    "        super().__init__()\n",
    "        # (the speed of light is about 300,000 km/s)\n",
    "        self.properties[\"speed\"] = speed_of_light_fraction * 3e5\n",
    "        self.properties[\"std\"] = standard_deviation\n",
    "        self.required_properties = ['length']  # in km\n",
    "\n",
    "    def generate_delay(self, **kwargs):\n",
    "        avg_speed = self.properties[\"speed\"]\n",
    "        std = self.properties[\"std\"]\n",
    "        # The 'rng' property contains a random number generator\n",
    "        # We can use that to generate a random speed\n",
    "        speed = self.properties[\"rng\"].normal(avg_speed, avg_speed * std)\n",
    "        delay = 1e9 * kwargs['length'] / speed  # in nanoseconds\n",
    "        return delay"
   ]
  },
  {
   "cell_type": "code",
   "execution_count": 12,
   "id": "c1a9f5ce",
   "metadata": {},
   "outputs": [],
   "source": [
    "# create quantum channels (l=2.74 m)\n",
    "from netsquid.components import QuantumChannel\n",
    "\n",
    "distance = 2.74 / 1000  # default unit of length in channels is km\n",
    "delay_model = PingPongDelayModel()\n",
    "channel_1 = QuantumChannel(name=\"qchannel[ping to pong]\",\n",
    "                           length=distance,\n",
    "                           models={\"delay_model\": delay_model})\n",
    "channel_2 = QuantumChannel(name=\"qchannel[pong to ping]\",\n",
    "                           length=distance,\n",
    "                           models={\"delay_model\": delay_model})"
   ]
  },
  {
   "cell_type": "code",
   "execution_count": 13,
   "id": "40b4320c",
   "metadata": {},
   "outputs": [
    {
     "data": {
      "text/plain": [
       "('qubitIO', 'qubitIO')"
      ]
     },
     "execution_count": 13,
     "metadata": {},
     "output_type": "execute_result"
    }
   ],
   "source": [
    "# create connection component to wrap channels into one component\n",
    "# so Ping and Pong can send/receive qubits to/from their qubitIO ports\n",
    "from netsquid.nodes import DirectConnection\n",
    "\n",
    "connection = DirectConnection(name=\"conn[ping|pong]\",\n",
    "                              channel_AtoB=channel_1,\n",
    "                              channel_BtoA=channel_2)\n",
    "node_ping.connect_to(remote_node=node_pong, connection=connection,\n",
    "                     local_port_name=\"qubitIO\", remote_port_name=\"qubitIO\")"
   ]
  },
  {
   "cell_type": "markdown",
   "id": "e6c5c994",
   "metadata": {},
   "source": [
    "## Protocols"
   ]
  },
  {
   "cell_type": "markdown",
   "id": "7e700a8c",
   "metadata": {},
   "source": [
    "####  protocol we need at each node should wait for any incoming qubits on the node’s port. When a qubit arrives it should measure it in the preferred basis, then directly send it back through the same port. "
   ]
  },
  {
   "cell_type": "code",
   "execution_count": 14,
   "id": "0a3498b4",
   "metadata": {},
   "outputs": [],
   "source": [
    "from netsquid.protocols import NodeProtocol\n",
    "\n",
    "class PingPongProtocol(NodeProtocol):\n",
    "    def __init__(self, node, observable, qubit=None):\n",
    "        super().__init__(node)\n",
    "        self.observable = observable\n",
    "        self.qubit = qubit\n",
    "        # Define matching pair of strings for pretty printing of basis states:\n",
    "        self.basis = [\"|0>\", \"|1>\"] if observable == ns.Z else [\"|+>\", \"|->\"]\n",
    "\n",
    "    def run(self):\n",
    "        if self.qubit is not None:\n",
    "            # Send (TX) qubit to the other node via port's output:\n",
    "            self.node.ports[\"qubitIO\"].tx_output(self.qubit)\n",
    "        while True:\n",
    "            # Wait (yield) until input has arrived on our port:\n",
    "            yield self.await_port_input(self.node.ports[\"qubitIO\"])\n",
    "            # Receive (RX) qubit on the port's input:\n",
    "            message = self.node.ports[\"qubitIO\"].rx_input()\n",
    "            qubit = message.items[0]\n",
    "            meas, prob = ns.qubits.measure(qubit, observable=self.observable)\n",
    "            print(f\"{ns.sim_time():5.1f}: {self.node.name} measured \"\n",
    "                  f\"{self.basis[meas]} with probability {prob:.2f}\")\n",
    "            # Send (TX) qubit to the other node via connection:\n",
    "            self.node.ports[\"qubitIO\"].tx_output(qubit)"
   ]
  },
  {
   "cell_type": "markdown",
   "id": "deb7a6f9",
   "metadata": {},
   "source": [
    "The constructor of this protocol (i.e. the __init__ method) can optionally be given a qubit, in which case it will use this qubit to kick the game off. The protocol is started with the start method, which will call run. The run method will run until the first yield where it will wait until it receives the qubit. Once the qubit is received the method continues; the qubit is measured and sent back. Once it is sent back the run method will encounter the yield once more and will wait again until it receives the qubit. This process repeats ad infinitum until one of the protocol stops."
   ]
  },
  {
   "cell_type": "code",
   "execution_count": 15,
   "id": "2e69418c",
   "metadata": {},
   "outputs": [],
   "source": [
    "# assign protocol to both nodes\n",
    "qubits = ns.qubits.create_qubits(1)\n",
    "ping_protocol = PingPongProtocol(node_ping, observable=ns.Z, qubit=qubits[0])\n",
    "pong_protocol = PingPongProtocol(node_pong, observable=ns.X)"
   ]
  },
  {
   "cell_type": "code",
   "execution_count": 16,
   "id": "ac6ccd1a",
   "metadata": {},
   "outputs": [
    {
     "name": "stdout",
     "output_type": "stream",
     "text": [
      " 17.6: Pong measured |+> with probability 0.50\n",
      " 35.1: Ping measured |1> with probability 0.50\n",
      " 53.8: Pong measured |+> with probability 0.50\n",
      " 73.2: Ping measured |0> with probability 0.50\n",
      " 93.1: Pong measured |+> with probability 0.50\n",
      "110.6: Ping measured |1> with probability 0.50\n",
      "128.6: Pong measured |+> with probability 0.50\n",
      "146.8: Ping measured |1> with probability 0.50\n",
      "165.8: Pong measured |-> with probability 0.50\n",
      "184.3: Ping measured |0> with probability 0.50\n",
      "204.5: Pong measured |+> with probability 0.50\n",
      "222.9: Ping measured |0> with probability 0.50\n",
      "241.4: Pong measured |+> with probability 0.50\n",
      "259.7: Ping measured |1> with probability 0.50\n",
      "278.3: Pong measured |-> with probability 0.50\n",
      "298.0: Ping measured |1> with probability 0.50\n"
     ]
    }
   ],
   "source": [
    "# running the simulation\n",
    "ping_protocol.start()\n",
    "pong_protocol.start()\n",
    "run_stats = ns.sim_run(duration=300)"
   ]
  },
  {
   "cell_type": "code",
   "execution_count": 18,
   "id": "0d659df8",
   "metadata": {},
   "outputs": [
    {
     "name": "stdout",
     "output_type": "stream",
     "text": [
      "\n",
      "Simulation summary\n",
      "==================\n",
      "\n",
      "Elapsed wallclock time: 0:00:00.005126\n",
      "Elapsed simulation time: 3.00e+02 [ns]\n",
      "Triggered events: 32\n",
      "Handled callbacks: 32\n",
      "Total quantum operations: 16\n",
      "Frequent quantum operations: MEASURE = 16\n",
      "Max qstate size: 1 qubits\n",
      "Mean qstate size: 1.00 qubits\n",
      "\n"
     ]
    }
   ],
   "source": [
    "# return useful diagnostics\n",
    "print(run_stats)"
   ]
  },
  {
   "cell_type": "code",
   "execution_count": null,
   "id": "672dfbf0",
   "metadata": {},
   "outputs": [],
   "source": []
  }
 ],
 "metadata": {
  "kernelspec": {
   "display_name": "Python 3",
   "language": "python",
   "name": "python3"
  },
  "language_info": {
   "codemirror_mode": {
    "name": "ipython",
    "version": 3
   },
   "file_extension": ".py",
   "mimetype": "text/x-python",
   "name": "python",
   "nbconvert_exporter": "python",
   "pygments_lexer": "ipython3",
   "version": "3.6.9"
  }
 },
 "nbformat": 4,
 "nbformat_minor": 5
}
