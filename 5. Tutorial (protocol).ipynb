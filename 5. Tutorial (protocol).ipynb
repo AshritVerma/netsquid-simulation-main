{
 "cells": [
  {
   "cell_type": "code",
   "execution_count": 61,
   "id": "5efa92b6",
   "metadata": {},
   "outputs": [],
   "source": [
    "import netsquid as ns"
   ]
  },
  {
   "cell_type": "markdown",
   "id": "218fd0ab",
   "metadata": {},
   "source": [
    "# simple protocl that sleeps for 100 nanoseconds:"
   ]
  },
  {
   "cell_type": "code",
   "execution_count": 62,
   "id": "f9985bf4",
   "metadata": {},
   "outputs": [
    {
     "name": "stdout",
     "output_type": "stream",
     "text": [
      "Starting protcol at 0.0\n"
     ]
    },
    {
     "data": {
      "text/plain": [
       "WaitProtocol('WaitProtocol')"
      ]
     },
     "execution_count": 62,
     "metadata": {},
     "output_type": "execute_result"
    }
   ],
   "source": [
    "from netsquid.protocols import Protocol\n",
    "\n",
    "class WaitProtocol(Protocol):\n",
    "    def run(self):\n",
    "        print(f\"Starting protcol at {ns.sim_time()}\")\n",
    "        yield self.await_timer(100)\n",
    "        print(f\"Ending protocl at {ns.sim_time()}\")\n",
    "        \n",
    "ns.sim_reset()\n",
    "protocol = WaitProtocol()\n",
    "protocol.start()"
   ]
  },
  {
   "cell_type": "code",
   "execution_count": 63,
   "id": "4f5fb188",
   "metadata": {},
   "outputs": [
    {
     "name": "stdout",
     "output_type": "stream",
     "text": [
      "Ending protocl at 100.0\n"
     ]
    }
   ],
   "source": [
    "stats = ns.sim_run()"
   ]
  },
  {
   "cell_type": "markdown",
   "id": "99cf91ae",
   "metadata": {},
   "source": [
    "when protocol finsihes, sends FINISHED signal (Signals) to inform any lsitienting entiteisi"
   ]
  },
  {
   "cell_type": "code",
   "execution_count": null,
   "id": "599d832c",
   "metadata": {},
   "outputs": [],
   "source": []
  },
  {
   "cell_type": "markdown",
   "id": "285b934c",
   "metadata": {},
   "source": [
    "# ping pong example using protocols"
   ]
  },
  {
   "cell_type": "code",
   "execution_count": 64,
   "id": "98c240a9",
   "metadata": {},
   "outputs": [],
   "source": [
    "from netsquid.protocols import NodeProtocol\n",
    "from netsquid.components import QuantumChannel\n",
    "from netsquid.nodes import Node, DirectConnection\n",
    "from netsquid.qubits import qubitapi as qapi\n",
    "\n",
    "class PingProtocol(NodeProtocol):\n",
    "    def run(self):\n",
    "        print(f\"Starting ping at t={ns.sim_time()}\")\n",
    "        port = self.node.ports[\"port_to_channel\"]\n",
    "        qubit, = qapi.create_qubits(1)\n",
    "        port.tx_output(qubit) # send qubit to POng\n",
    "        while True:\n",
    "            # wiat for qubit to be received back\n",
    "            yield self.await_port_input(port)\n",
    "            qubit = port.rx_input().items[0]\n",
    "            m, prob = qapi.measure(qubit, ns.Z)\n",
    "            labels_z = (\"|0>\", \"|1>\")\n",
    "            print(f\"{ns.sim_time()}: Pong event! {self.node.name} measured\"\n",
    "                  f\"{labels_z[m]} with probability {prob:.2f}\")\n",
    "            port.tx_output(qubit) #send qubit to Pong\n",
    "            \n",
    "class PongProtocol(NodeProtocol):\n",
    "    def run(self):\n",
    "        print(\"Starting pong at t={}\".format(ns.sim_time()))\n",
    "        port = self.node.ports[\"port_to_channel\"]\n",
    "        while True:\n",
    "            yield self.await_port_input(port)\n",
    "            qubit = port.rx_input().items[0]\n",
    "            m, prob = qapi.measure(qubit,ns.X)\n",
    "            labels_x = (\"|+>\", \"|->\")\n",
    "            print(f\"{ns.sim_time()}: Ping event! {self.node.name} measured \"\n",
    "                  f\"{labels_x[m]} with probability {prob:.2f}\")\n",
    "            port.tx_output(qubit) #send quibt to Ping"
   ]
  },
  {
   "cell_type": "code",
   "execution_count": 65,
   "id": "79f3b3d6",
   "metadata": {},
   "outputs": [],
   "source": [
    "# running two porotocol on nodes of Ping and Pong entityt\n",
    "# connect thru direct connection \n",
    "# assign them their protocol\n",
    "ns.sim_reset()\n",
    "ns.set_random_state(seed=42)\n",
    "\n",
    "node_ping = Node(\"Ping\", port_names=[\"port_to_channel\"])\n",
    "node_pong = Node(\"Pong\", port_names=[\"port_to_channel\"])\n",
    "\n",
    "connection = DirectConnection(\"Connection\",\n",
    "                             QuantumChannel(\"Channel_LR\", delay=10), \n",
    "                             QuantumChannel(\"Channel_RL\", delay=10))\n",
    "\n",
    "node_ping.ports[\"port_to_channel\"].connect(connection.ports['A'])\n",
    "node_pong.ports[\"port_to_channel\"].connect(connection.ports[\"B\"])\n",
    "ping_protocol = PingProtocol(node_ping)\n",
    "pong_protocol = PongProtocol(node_pong)"
   ]
  },
  {
   "cell_type": "code",
   "execution_count": 66,
   "id": "0f3860a2",
   "metadata": {},
   "outputs": [
    {
     "name": "stdout",
     "output_type": "stream",
     "text": [
      "Starting ping at t=0.0\n",
      "Starting pong at t=0.0\n",
      "10.0: Ping event! Pong measured |+> with probability 0.50\n",
      "20.0: Pong event! Ping measured|1> with probability 0.50\n",
      "30.0: Ping event! Pong measured |-> with probability 0.50\n",
      "40.0: Pong event! Ping measured|1> with probability 0.50\n",
      "50.0: Ping event! Pong measured |+> with probability 0.50\n",
      "60.0: Pong event! Ping measured|0> with probability 0.50\n",
      "70.0: Ping event! Pong measured |+> with probability 0.50\n",
      "80.0: Pong event! Ping measured|1> with probability 0.50\n",
      "90.0: Ping event! Pong measured |-> with probability 0.50\n"
     ]
    }
   ],
   "source": [
    "# runing simulation\n",
    "ping_protocol.start()\n",
    "pong_protocol.start()\n",
    "stats = ns.sim_run(91)"
   ]
  },
  {
   "cell_type": "code",
   "execution_count": 67,
   "id": "f44085b3",
   "metadata": {},
   "outputs": [
    {
     "name": "stdout",
     "output_type": "stream",
     "text": [
      "100.0: Pong event! Ping measured|1> with probability 0.50\n"
     ]
    }
   ],
   "source": [
    "# what happesn if protocols are stopped or reset?\n",
    "pong_protocol.stop()\n",
    "stats = ns.sim_run()"
   ]
  },
  {
   "cell_type": "markdown",
   "id": "99c7f63e",
   "metadata": {},
   "source": [
    "Now that the pong protocol is stopped the simulation can be run until there are no more events. In the previous run, pong sent a qubit back to ping, but it was not yet processed. In this run, the lingering qubit arrived at the ping protocol. The qubit is pinged back, but pong is stopped so does not process it. There was no one listening to the port, so now the qubit is lost. When pong is started again, nothing will happen, since there is no qubit to pass back and forth."
   ]
  },
  {
   "cell_type": "code",
   "execution_count": 68,
   "id": "b4469c55",
   "metadata": {},
   "outputs": [
    {
     "name": "stdout",
     "output_type": "stream",
     "text": [
      "Starting pong at t=110.0\n"
     ]
    }
   ],
   "source": [
    "pong_protocol.start()\n",
    "stats = ns.sim_run()"
   ]
  },
  {
   "cell_type": "code",
   "execution_count": 69,
   "id": "7bae17a5",
   "metadata": {},
   "outputs": [
    {
     "name": "stdout",
     "output_type": "stream",
     "text": [
      "Starting ping at t=110.0\n",
      "120.0: Ping event! Pong measured |+> with probability 0.50\n",
      "130.0: Pong event! Ping measured|1> with probability 0.50\n",
      "140.0: Ping event! Pong measured |-> with probability 0.50\n",
      "150.0: Pong event! Ping measured|0> with probability 0.50\n",
      "160.0: Ping event! Pong measured |+> with probability 0.50\n"
     ]
    }
   ],
   "source": [
    "ping_protocol.reset()\n",
    "stats = ns.sim_run(duration = 51)"
   ]
  },
  {
   "cell_type": "code",
   "execution_count": null,
   "id": "e4d80260",
   "metadata": {},
   "outputs": [],
   "source": []
  },
  {
   "cell_type": "markdown",
   "id": "5b987f9b",
   "metadata": {},
   "source": [
    "# teleporation exmaple using protocols"
   ]
  },
  {
   "cell_type": "markdown",
   "id": "00ca8a83",
   "metadata": {},
   "source": [
    "You may think that Alice could simply send a signal with the measurement results, to which Bob could listen to. However that would break locality; the message would have been sent faster than light to Bob! To avoid this possibility a node protocol (NodeProtocol) can be used. Such a protocol has access to only one node, and also ensures protocols can only signal to other protocols on that node i.e. at the same location. If a protocol should have access to a limited set of nodes a local protocol (LocalProtocol) can be used, or a regular protocol (LocalProtocol) if locality is not of concern."
   ]
  },
  {
   "cell_type": "code",
   "execution_count": 70,
   "id": "8b566122",
   "metadata": {},
   "outputs": [],
   "source": [
    "from netsquid.protocols import NodeProtocol, Signals\n",
    "\n",
    "class InitStateProtocol(NodeProtocol):\n",
    "    def run(self):\n",
    "        qubit, = qapi.create_qubits(1)\n",
    "        mem_pos = self.node.qmemory.unused_positions[0]\n",
    "        self.node.qmemory.put(qubit, mem_pos)\n",
    "        self.node.qmemory.operate(ns.H, mem_pos)\n",
    "        self.node.qmemory.operate(ns.S, mem_pos)\n",
    "        self.send_signal(signal_label=Signals.SUCCESS, result=mem_pos)"
   ]
  },
  {
   "cell_type": "markdown",
   "id": "433d3067",
   "metadata": {},
   "source": [
    "Next Alice needs a protocol to perform her Bell measurement. Before she can do the measurement both the qubit she wants to teleport and the qubit that is entangled with Bob needs to be in her memory, so Alice needs to wait for both of them. In principle they can arrive in any order, so Alice will need to wait for both of them simultaneously. This can be done by combining the event expressions with the & (AND) operator, which waits until both expressions are triggered:"
   ]
  },
  {
   "cell_type": "markdown",
   "id": "9748aea4",
   "metadata": {},
   "source": [
    "expression_and = yield expression1 & expression2\n",
    "expression_or = yield expression3 | expression4\n",
    "\n",
    "#The event expression that is returned is a copy of the event expression \n",
    "#that was yielded on. This new copied event expression has information on \n",
    "#which expression was triggered.\n",
    "\n",
    "expression_or.first_term.value  # Is true if expression3 was triggered  \n",
    "expression_or.second_term.value  # Is true if expression4 was triggered  \n",
    "#list of all events that caused the expression to trigger:\n",
    "expression_or.triggered_events    "
   ]
  },
  {
   "cell_type": "markdown",
   "id": "42c2bf2b",
   "metadata": {},
   "source": [
    "Alice waits for a signal of the InitStateProtocol (i.e. her qubit being prepared), and until the entangled qubit gets placed on the memory. Once both have occurred she can do the measurement and send the measurement results to Bob."
   ]
  },
  {
   "cell_type": "code",
   "execution_count": 71,
   "id": "4d358396",
   "metadata": {},
   "outputs": [],
   "source": [
    "from pydynaa import EventExpression\n",
    "\n",
    "class BellMeasurementProtocol(NodeProtocol):\n",
    "    def __init__(self, node, qubit_protocol):\n",
    "        super().__init__(node)\n",
    "        self.add_subprotocol(qubit_protocol, 'qprotocol')\n",
    "        \n",
    "    def run(self):\n",
    "        qubit_initialized = False\n",
    "        entanglement_ready = False\n",
    "        while True:\n",
    "            evexpr_signal = self.await_signal(\n",
    "                sender= self.subprotocols['qprotocol'],\n",
    "                signal_label=Signals.SUCCESS)\n",
    "            evexpr_port = self.await_port_input(self.node.ports[\"qin_charlie\"])\n",
    "            expression = yield evexpr_signal | evexpr_port\n",
    "            if expression.first_term.value:\n",
    "                # first expression was triggered\n",
    "                qubit_initialized = True\n",
    "            else: \n",
    "                # second expression was triggerted\n",
    "                entanglement_ready = True\n",
    "            if qubit_initialized and entanglement_ready:\n",
    "                # perform Bell measuremetn:\n",
    "                self.node.qmemory.operate(ns.CNOT, [0,1])\n",
    "                self.node.qmemory.operate(ns.H, 0)\n",
    "                m, _ = self.node.qmemory.measure([0,1])\n",
    "                # send measuremetn results to Bob:\n",
    "                self.node.ports[\"cout_bob\"].tx_output(m)\n",
    "                self.send_signal(Signals.SUCCESS)\n",
    "                print(f\"{ns.sim_time():.1f} Alice received the entangled qubit, \"\n",
    "                      f\"measured qubits & sending corrections\")\n",
    "                break\n",
    "\n",
    "    def start(self):\n",
    "        super().start()\n",
    "        self.start_subprotocols()"
   ]
  },
  {
   "cell_type": "markdown",
   "id": "734f165d",
   "metadata": {},
   "source": [
    "Bob needs to perofmr coreections on qubit it receives from the soruce, so Bob also needs to wait for 2 things to occur:\n",
    "- classical data he receives from Alice\n",
    "- the entangled qubit that gets placed in Bob's memeory"
   ]
  },
  {
   "cell_type": "code",
   "execution_count": 74,
   "id": "c7ab5b16",
   "metadata": {},
   "outputs": [],
   "source": [
    "class CorrectionProtocol(NodeProtocol):\n",
    "\n",
    "    def __init__(self, node):\n",
    "        super().__init__(node)\n",
    "\n",
    "    def run(self):\n",
    "        port_alice = self.node.ports[\"cin_alice\"]\n",
    "        port_charlie = self.node.ports[\"qin_charlie\"]\n",
    "        entanglement_ready = False\n",
    "        meas_results = None\n",
    "        while True:\n",
    "            evexpr_port_a = self.await_port_input(port_alice)\n",
    "            evexpr_port_c = self.await_port_input(port_charlie)\n",
    "            expression = yield evexpr_port_a | evexpr_port_c\n",
    "            if expression.first_term.value:\n",
    "                meas_results = port_alice.rx_input().items\n",
    "            else:\n",
    "                entanglement_ready = True\n",
    "            if meas_results is not None and entanglement_ready:\n",
    "                if meas_results[0]:\n",
    "                    self.node.qmemory.operate(ns.Z, 0)\n",
    "                if meas_results[1]:\n",
    "                    self.node.qmemory.operate(ns.X, 0)\n",
    "                self.send_signal(Signals.SUCCESS, 0)\n",
    "                fidelity = ns.qubits.fidelity(self.node.qmemory.peek(0)[0],\n",
    "                                              ns.y0, squared=True)\n",
    "                print(f\"{ns.sim_time():.1f}: Bob received entangled qubit and \"\n",
    "                      f\"corrections! Fidelity = {fidelity:.3f}\")\n",
    "                break"
   ]
  },
  {
   "cell_type": "markdown",
   "id": "c057f4a1",
   "metadata": {},
   "source": [
    "to finisih, take exmaple network from before, assign protocols and run the simulation\n",
    "<br> if everything good, example_network_setup should return the network instead of the nodes and the connections (class Network)"
   ]
  },
  {
   "cell_type": "code",
   "execution_count": 75,
   "id": "b129e2d7",
   "metadata": {},
   "outputs": [
    {
     "name": "stdout",
     "output_type": "stream",
     "text": [
      "10.0 Alice received the entangled qubit, measured qubits & sending corrections\n",
      "30.0: Bob received entangled qubit and corrections! Fidelity = 0.870\n"
     ]
    }
   ],
   "source": [
    "from netsquid.examples.teleportation import example_network_setup\n",
    "\n",
    "ns.sim_reset()\n",
    "ns.set_qstate_formalism(ns.QFormalism.DM)\n",
    "ns.set_random_state(seed=42)\n",
    "network = example_network_setup()\n",
    "\n",
    "alice = network.get_node(\"Alice\")\n",
    "bob = network.get_node(\"Bob\")\n",
    "\n",
    "random_state_protocol = InitStateProtocol(alice)\n",
    "bell_measure_protocol = BellMeasurementProtocol(alice, random_state_protocol)\n",
    "correction_protocol= CorrectionProtocol(bob)\n",
    "\n",
    "bell_measure_protocol.start()\n",
    "correction_protocol.start()\n",
    "stats = ns.sim_run(100)"
   ]
  },
  {
   "cell_type": "code",
   "execution_count": null,
   "id": "0660ba4f",
   "metadata": {},
   "outputs": [],
   "source": []
  },
  {
   "cell_type": "code",
   "execution_count": null,
   "id": "6a074e90",
   "metadata": {},
   "outputs": [],
   "source": []
  }
 ],
 "metadata": {
  "kernelspec": {
   "display_name": "Python 3",
   "language": "python",
   "name": "python3"
  },
  "language_info": {
   "codemirror_mode": {
    "name": "ipython",
    "version": 3
   },
   "file_extension": ".py",
   "mimetype": "text/x-python",
   "name": "python",
   "nbconvert_exporter": "python",
   "pygments_lexer": "ipython3",
   "version": "3.6.9"
  }
 },
 "nbformat": 4,
 "nbformat_minor": 5
}
